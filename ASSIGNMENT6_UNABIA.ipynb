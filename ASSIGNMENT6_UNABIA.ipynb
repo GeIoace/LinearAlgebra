{
  "nbformat": 4,
  "nbformat_minor": 0,
  "metadata": {
    "colab": {
      "name": "ASSIGNMENT6_UNABIA.ipynb",
      "provenance": [],
      "collapsed_sections": [],
      "include_colab_link": true
    },
    "kernelspec": {
      "name": "python3",
      "display_name": "Python 3"
    },
    "language_info": {
      "name": "python"
    }
  },
  "cells": [
    {
      "cell_type": "markdown",
      "metadata": {
        "id": "view-in-github",
        "colab_type": "text"
      },
      "source": [
        "<a href=\"https://colab.research.google.com/github/GeIoace/LinearAlgebra/blob/main/ASSIGNMENT6_UNABIA.ipynb\" target=\"_parent\"><img src=\"https://colab.research.google.com/assets/colab-badge.svg\" alt=\"Open In Colab\"/></a>"
      ]
    },
    {
      "cell_type": "markdown",
      "metadata": {
        "id": "1P9Pu1ZbXr0P"
      },
      "source": [
        "# ***Linear Algebra for ECE***"
      ]
    },
    {
      "cell_type": "markdown",
      "metadata": {
        "id": "H-CUQgrGXrlq"
      },
      "source": [
        "### Laboratory 6: Matrix Operations\n",
        "Now that you have a fundamental knowledge about representing and operating with vectors as well as the fundamentals of matrices, we'll try to the same operations with matrices and even more"
      ]
    },
    {
      "cell_type": "markdown",
      "metadata": {
        "id": "Cp_oyxapXxhf"
      },
      "source": [
        "## **Objectives**\n",
        "\n",
        "At the end of this activity you will be able to:\n",
        "1. Be familiar with the fundamental matrix operations.\n",
        "2. Apply the operations to solve intermediate equations.\n",
        "3. Apply matrix algebra in engineering solutions."
      ]
    },
    {
      "cell_type": "markdown",
      "metadata": {
        "id": "vE02KelgYEo3"
      },
      "source": [
        "## Discussion"
      ]
    },
    {
      "cell_type": "code",
      "metadata": {
        "id": "_S-hF4u9XWTT"
      },
      "source": [
        "import numpy as np\n",
        "import matplotlib.pyplot as plt\n",
        "%matplotlib inline"
      ],
      "execution_count": 116,
      "outputs": []
    },
    {
      "cell_type": "markdown",
      "metadata": {
        "id": "UYEMbtXuX7eV"
      },
      "source": [
        "## Transposition\n",
        "One of the fundamental operations in matrix algebra is Transposition. The transpose of a matrix is done by flipping the values of its elements over its diagonals. With this, the rows and columns from the original matrix will be switched. So for a matrix $A$ its transpose is denoted as $A^T$. So for example:"
      ]
    },
    {
      "cell_type": "markdown",
      "metadata": {
        "id": "0wq6g9KYYSKJ"
      },
      "source": [
        "$$A = \\begin{bmatrix} 1 & 2 & 5\\\\5 & -1 &0 \\\\ 0 & -3 & 3\\end{bmatrix} $$"
      ]
    },
    {
      "cell_type": "markdown",
      "metadata": {
        "id": "fYi36RVgYTuF"
      },
      "source": [
        "$$ A^T = \\begin{bmatrix} 1 & 5 & 0\\\\2 & -1 &-3 \\\\ 5 & 0 & 3\\end{bmatrix}$$"
      ]
    },
    {
      "cell_type": "markdown",
      "metadata": {
        "id": "4wYfOPRyYV1s"
      },
      "source": [
        "This can now be achieved programmatically by using np.transpose() or by using the T method."
      ]
    },
    {
      "cell_type": "code",
      "metadata": {
        "colab": {
          "base_uri": "https://localhost:8080/"
        },
        "id": "cIM6ToyAYa9b",
        "outputId": "f8c9b09f-fa25-4802-bb8b-b74b1c153cb8"
      },
      "source": [
        "A = np.array([\n",
        "    [1 ,2, 5],\n",
        "    [5, -1, 0],\n",
        "    [0, -3, 3]\n",
        "])\n",
        "A"
      ],
      "execution_count": 117,
      "outputs": [
        {
          "output_type": "execute_result",
          "data": {
            "text/plain": [
              "array([[ 1,  2,  5],\n",
              "       [ 5, -1,  0],\n",
              "       [ 0, -3,  3]])"
            ]
          },
          "metadata": {},
          "execution_count": 117
        }
      ]
    },
    {
      "cell_type": "code",
      "metadata": {
        "colab": {
          "base_uri": "https://localhost:8080/"
        },
        "id": "WEqGkw1jYd7q",
        "outputId": "4af16bcd-5b99-4094-f138-f5777844466a"
      },
      "source": [
        "AT1 = np.transpose(A)\n",
        "AT1"
      ],
      "execution_count": 118,
      "outputs": [
        {
          "output_type": "execute_result",
          "data": {
            "text/plain": [
              "array([[ 1,  5,  0],\n",
              "       [ 2, -1, -3],\n",
              "       [ 5,  0,  3]])"
            ]
          },
          "metadata": {},
          "execution_count": 118
        }
      ]
    },
    {
      "cell_type": "code",
      "metadata": {
        "colab": {
          "base_uri": "https://localhost:8080/"
        },
        "id": "nk0yM8WHYnPv",
        "outputId": "ef1ba1be-0106-4d98-efeb-910ffeddbdfb"
      },
      "source": [
        "AT2 = A.T\n",
        "AT2"
      ],
      "execution_count": 119,
      "outputs": [
        {
          "output_type": "execute_result",
          "data": {
            "text/plain": [
              "array([[ 1,  5,  0],\n",
              "       [ 2, -1, -3],\n",
              "       [ 5,  0,  3]])"
            ]
          },
          "metadata": {},
          "execution_count": 119
        }
      ]
    },
    {
      "cell_type": "code",
      "metadata": {
        "colab": {
          "base_uri": "https://localhost:8080/"
        },
        "id": "5AWFk5PUYpR9",
        "outputId": "af1a800c-5d6c-4d6d-9f44-e855f494f4a6"
      },
      "source": [
        "np.array_equiv(AT1, AT2)"
      ],
      "execution_count": 120,
      "outputs": [
        {
          "output_type": "execute_result",
          "data": {
            "text/plain": [
              "True"
            ]
          },
          "metadata": {},
          "execution_count": 120
        }
      ]
    },
    {
      "cell_type": "code",
      "metadata": {
        "colab": {
          "base_uri": "https://localhost:8080/"
        },
        "id": "7JAXyBmxYqWM",
        "outputId": "349e2519-3638-4db8-8265-6e24d5b27beb"
      },
      "source": [
        "B = np.array([\n",
        "    [1,2,3,4],\n",
        "    [1,0,2,1],\n",
        "])\n",
        "B.shape"
      ],
      "execution_count": 121,
      "outputs": [
        {
          "output_type": "execute_result",
          "data": {
            "text/plain": [
              "(2, 4)"
            ]
          },
          "metadata": {},
          "execution_count": 121
        }
      ]
    },
    {
      "cell_type": "code",
      "metadata": {
        "colab": {
          "base_uri": "https://localhost:8080/"
        },
        "id": "5zw7WpOgYr6Z",
        "outputId": "c6eaac96-483e-44e7-a2f9-ddec3e74a8a4"
      },
      "source": [
        "np.transpose(B).shape"
      ],
      "execution_count": 122,
      "outputs": [
        {
          "output_type": "execute_result",
          "data": {
            "text/plain": [
              "(4, 2)"
            ]
          },
          "metadata": {},
          "execution_count": 122
        }
      ]
    },
    {
      "cell_type": "code",
      "metadata": {
        "colab": {
          "base_uri": "https://localhost:8080/"
        },
        "id": "0aIHtSohYtQi",
        "outputId": "9e737e3d-bd02-4ce6-8d9b-42e970bb9c24"
      },
      "source": [
        "B.T.shape"
      ],
      "execution_count": 123,
      "outputs": [
        {
          "output_type": "execute_result",
          "data": {
            "text/plain": [
              "(4, 2)"
            ]
          },
          "metadata": {},
          "execution_count": 123
        }
      ]
    },
    {
      "cell_type": "markdown",
      "metadata": {
        "id": "zYIkPChYY1fF"
      },
      "source": [
        "Try to create your own matrix (you can try non-squares) to test transposition."
      ]
    },
    {
      "cell_type": "code",
      "metadata": {
        "colab": {
          "base_uri": "https://localhost:8080/"
        },
        "id": "Kr2k7OJyY2Qg",
        "outputId": "22efd4ff-9956-4dcd-d1cc-211c047e9bd3"
      },
      "source": [
        "doms = np.array([\n",
        "     [3,2,1],\n",
        "     [7,6,5]\n",
        "\n",
        "])\n",
        "doms.shape"
      ],
      "execution_count": 124,
      "outputs": [
        {
          "output_type": "execute_result",
          "data": {
            "text/plain": [
              "(2, 3)"
            ]
          },
          "metadata": {},
          "execution_count": 124
        }
      ]
    },
    {
      "cell_type": "code",
      "metadata": {
        "colab": {
          "base_uri": "https://localhost:8080/"
        },
        "id": "bCr4bS0wZJxD",
        "outputId": "74936e57-9117-49f8-de8c-1dc01418f562"
      },
      "source": [
        "np.transpose(doms).shape"
      ],
      "execution_count": 125,
      "outputs": [
        {
          "output_type": "execute_result",
          "data": {
            "text/plain": [
              "(3, 2)"
            ]
          },
          "metadata": {},
          "execution_count": 125
        }
      ]
    },
    {
      "cell_type": "code",
      "metadata": {
        "colab": {
          "base_uri": "https://localhost:8080/"
        },
        "id": "YsON87XZZM1T",
        "outputId": "ff5acfa6-2d21-40c3-c93f-a8d8e8f4469f"
      },
      "source": [
        "doms.T.shape"
      ],
      "execution_count": 126,
      "outputs": [
        {
          "output_type": "execute_result",
          "data": {
            "text/plain": [
              "(3, 2)"
            ]
          },
          "metadata": {},
          "execution_count": 126
        }
      ]
    },
    {
      "cell_type": "code",
      "metadata": {
        "colab": {
          "base_uri": "https://localhost:8080/"
        },
        "id": "D0jEYoKxZOiM",
        "outputId": "c0fa900d-a905-4409-f2a2-5522113ee043"
      },
      "source": [
        "domsT = doms.T\n",
        "doms.T"
      ],
      "execution_count": 127,
      "outputs": [
        {
          "output_type": "execute_result",
          "data": {
            "text/plain": [
              "array([[3, 7],\n",
              "       [2, 6],\n",
              "       [1, 5]])"
            ]
          },
          "metadata": {},
          "execution_count": 127
        }
      ]
    },
    {
      "cell_type": "markdown",
      "metadata": {
        "id": "hJtihmjWgASv"
      },
      "source": [
        "## Dot Product / Inner Product"
      ]
    },
    {
      "cell_type": "markdown",
      "metadata": {
        "id": "Ex9uYyYtgDNM"
      },
      "source": [
        "If you recall the dot product from laboratory activity before, we will try to implement the same operation with matrices. In matrix dot product we are going to get the sum of products of the vectors by row-column pairs. So if we have two matrices $X$ and $Y$:\n",
        "\n",
        "$$X = \\begin{bmatrix}x_{(0,0)}&x_{(0,1)}\\\\ x_{(1,0)}&x_{(1,1)}\\end{bmatrix}, Y = \\begin{bmatrix}y_{(0,0)}&y_{(0,1)}\\\\ y_{(1,0)}&y_{(1,1)}\\end{bmatrix}$$\n",
        "\n",
        "The dot product will then be computed as:\n",
        "$$X \\cdot Y= \\begin{bmatrix} x_{(0,0)}*y_{(0,0)} + x_{(0,1)}*y_{(1,0)} & x_{(0,0)}*y_{(0,1)} + x_{(0,1)}*y_{(1,1)} \\\\  x_{(1,0)}*y_{(0,0)} + x_{(1,1)}*y_{(1,0)} & x_{(1,0)}*y_{(0,1)} + x_{(1,1)}*y_{(1,1)}\n",
        "\\end{bmatrix}$$\n",
        "\n",
        "So if we assign values to $X$ and $Y$:\n",
        "$$X = \\begin{bmatrix}1&2\\\\ 0&1\\end{bmatrix}, Y = \\begin{bmatrix}-1&0\\\\ 2&2\\end{bmatrix}$$"
      ]
    },
    {
      "cell_type": "markdown",
      "metadata": {
        "id": "Tofb8tHBgG1W"
      },
      "source": [
        "$$X \\cdot Y= \\begin{bmatrix} 1*-1 + 2*2 & 1*0 + 2*2 \\\\  0*-1 + 1*2 & 0*0 + 1*2 \\end{bmatrix} = \\begin{bmatrix} 3 & 4 \\\\2 & 2 \\end{bmatrix}$$\n",
        "This could be achieved programmatically using `np.dot()`, `np.matmul()` or the `@` operator."
      ]
    },
    {
      "cell_type": "code",
      "metadata": {
        "id": "JEcmE5ypgJAC"
      },
      "source": [
        "X = np.array([\n",
        "    [1,2],\n",
        "    [0,1]\n",
        "])\n",
        "Y = np.array([\n",
        "    [-1,0],\n",
        "    [2,2]\n",
        "])"
      ],
      "execution_count": 128,
      "outputs": []
    },
    {
      "cell_type": "code",
      "metadata": {
        "colab": {
          "base_uri": "https://localhost:8080/"
        },
        "id": "2VJe5X2-gJea",
        "outputId": "5b27e0fd-a724-4ad1-d94f-cb5b15920c0d"
      },
      "source": [
        "np.dot(X,Y)"
      ],
      "execution_count": 129,
      "outputs": [
        {
          "output_type": "execute_result",
          "data": {
            "text/plain": [
              "array([[3, 4],\n",
              "       [2, 2]])"
            ]
          },
          "metadata": {},
          "execution_count": 129
        }
      ]
    },
    {
      "cell_type": "code",
      "metadata": {
        "colab": {
          "base_uri": "https://localhost:8080/"
        },
        "id": "L64zxNDpgJbY",
        "outputId": "0bd2d4de-1c57-4a0b-f41a-d624d39509f0"
      },
      "source": [
        "X.dot(Y)"
      ],
      "execution_count": 130,
      "outputs": [
        {
          "output_type": "execute_result",
          "data": {
            "text/plain": [
              "array([[3, 4],\n",
              "       [2, 2]])"
            ]
          },
          "metadata": {},
          "execution_count": 130
        }
      ]
    },
    {
      "cell_type": "code",
      "metadata": {
        "colab": {
          "base_uri": "https://localhost:8080/"
        },
        "id": "5oSpeBlxgM5n",
        "outputId": "141ce542-88f0-4486-aff6-b93fa32c2569"
      },
      "source": [
        "X @ Y"
      ],
      "execution_count": 131,
      "outputs": [
        {
          "output_type": "execute_result",
          "data": {
            "text/plain": [
              "array([[3, 4],\n",
              "       [2, 2]])"
            ]
          },
          "metadata": {},
          "execution_count": 131
        }
      ]
    },
    {
      "cell_type": "code",
      "metadata": {
        "colab": {
          "base_uri": "https://localhost:8080/"
        },
        "id": "xq3S6wCNgM3o",
        "outputId": "bf0e00f9-ca0f-42fa-b4df-f978d7894ae3"
      },
      "source": [
        "np.matmul(X,Y)"
      ],
      "execution_count": 132,
      "outputs": [
        {
          "output_type": "execute_result",
          "data": {
            "text/plain": [
              "array([[3, 4],\n",
              "       [2, 2]])"
            ]
          },
          "metadata": {},
          "execution_count": 132
        }
      ]
    },
    {
      "cell_type": "markdown",
      "metadata": {
        "id": "-q-KaUL4gYy9"
      },
      "source": [
        "### Sample"
      ]
    },
    {
      "cell_type": "code",
      "metadata": {
        "colab": {
          "base_uri": "https://localhost:8080/"
        },
        "id": "9x-ev6xRgbKL",
        "outputId": "8459b7b3-8e76-4ca6-a4c9-549902a54861"
      },
      "source": [
        "doms1 = np.array([\n",
        "    [3,2,1],\n",
        "    [6,5,4],\n",
        "    [9,8,7]              \n",
        "])\n",
        "\n",
        "doms2 = np.array([\n",
        "    [7,8,9],\n",
        "    [4,5,6],\n",
        "    [1,2,3]              \n",
        "])\n",
        "np.dot(doms1,doms2)"
      ],
      "execution_count": 133,
      "outputs": [
        {
          "output_type": "execute_result",
          "data": {
            "text/plain": [
              "array([[ 30,  36,  42],\n",
              "       [ 66,  81,  96],\n",
              "       [102, 126, 150]])"
            ]
          },
          "metadata": {},
          "execution_count": 133
        }
      ]
    },
    {
      "cell_type": "code",
      "metadata": {
        "colab": {
          "base_uri": "https://localhost:8080/"
        },
        "id": "24O2RdBagyAL",
        "outputId": "aa6439fb-f49c-42da-eced-544e72bd8bc7"
      },
      "source": [
        "doms1.dot(doms2)"
      ],
      "execution_count": 134,
      "outputs": [
        {
          "output_type": "execute_result",
          "data": {
            "text/plain": [
              "array([[ 30,  36,  42],\n",
              "       [ 66,  81,  96],\n",
              "       [102, 126, 150]])"
            ]
          },
          "metadata": {},
          "execution_count": 134
        }
      ]
    },
    {
      "cell_type": "code",
      "metadata": {
        "colab": {
          "base_uri": "https://localhost:8080/"
        },
        "id": "y_Y9YD2fg0uL",
        "outputId": "a049381f-ebdb-4a62-aeb6-d1364663ce9f"
      },
      "source": [
        "doms1 @ doms2"
      ],
      "execution_count": 135,
      "outputs": [
        {
          "output_type": "execute_result",
          "data": {
            "text/plain": [
              "array([[ 30,  36,  42],\n",
              "       [ 66,  81,  96],\n",
              "       [102, 126, 150]])"
            ]
          },
          "metadata": {},
          "execution_count": 135
        }
      ]
    },
    {
      "cell_type": "code",
      "metadata": {
        "colab": {
          "base_uri": "https://localhost:8080/"
        },
        "id": "Oodf2KLyg2GJ",
        "outputId": "ddfac8ef-6b79-4e98-d84b-f3718edd56f5"
      },
      "source": [
        "np.matmul(doms1,doms2)"
      ],
      "execution_count": 136,
      "outputs": [
        {
          "output_type": "execute_result",
          "data": {
            "text/plain": [
              "array([[ 30,  36,  42],\n",
              "       [ 66,  81,  96],\n",
              "       [102, 126, 150]])"
            ]
          },
          "metadata": {},
          "execution_count": 136
        }
      ]
    },
    {
      "cell_type": "markdown",
      "metadata": {
        "id": "3RbiRyQXg8BL"
      },
      "source": [
        "In matrix dot products there are additional rules compared with vector dot products. Since vector dot products were just in one dimension there are less restrictions. Since now we are dealing with Rank 2 vectors we need to consider some rules:\n",
        "\n",
        "### Rule 1: The inner dimensions of the two matrices in question must be the same. \n",
        "\n",
        "So given a matrix $A$ with a shape of $(a,b)$ where $a$ and $b$ are any integers. If we want to do a dot product between $A$ and another matrix $B$, then matrix $B$ should have a shape of $(b,c)$ where $b$ and $c$ are any integers. So for given the following matrices:\n",
        "\n",
        "$$A = \\begin{bmatrix}2&4\\\\5&-2\\\\0&1\\end{bmatrix}, B = \\begin{bmatrix}1&1\\\\3&3\\\\-1&-2\\end{bmatrix}, C = \\begin{bmatrix}0&1&1\\\\1&1&2\\end{bmatrix}$$\n",
        "\n",
        "So in this case $A$ has a shape of $(3,2)$, $B$ has a shape of $(3,2)$ and $C$ has a shape of $(2,3)$. So the only matrix pairs that is eligible to perform dot product is matrices $A \\cdot C$, or $B \\cdot C$.  "
      ]
    },
    {
      "cell_type": "code",
      "metadata": {
        "colab": {
          "base_uri": "https://localhost:8080/"
        },
        "id": "Fzhet37dg90z",
        "outputId": "f9132eec-03a5-4c4a-c99f-b4bdf6633800"
      },
      "source": [
        "A = np.array([\n",
        "    [2,4],\n",
        "    [5,-2],\n",
        "    [0,1]\n",
        "])\n",
        "B = np.array([\n",
        "    [1,1],\n",
        "    [3,3],\n",
        "    [-1,-2]\n",
        "])\n",
        "C = np.array([\n",
        "    [0,1,1],\n",
        "    [1,1,2]\n",
        "])\n",
        "print(A.shape)\n",
        "print(B.shape)\n",
        "print(A.shape)"
      ],
      "execution_count": 137,
      "outputs": [
        {
          "output_type": "stream",
          "name": "stdout",
          "text": [
            "(3, 2)\n",
            "(3, 2)\n",
            "(3, 2)\n"
          ]
        }
      ]
    },
    {
      "cell_type": "code",
      "metadata": {
        "colab": {
          "base_uri": "https://localhost:8080/"
        },
        "id": "UX1kXPU-iFpE",
        "outputId": "898fc9a1-717a-4a0a-cab5-bac9e9a991b3"
      },
      "source": [
        "A @ C"
      ],
      "execution_count": 138,
      "outputs": [
        {
          "output_type": "execute_result",
          "data": {
            "text/plain": [
              "array([[ 4,  6, 10],\n",
              "       [-2,  3,  1],\n",
              "       [ 1,  1,  2]])"
            ]
          },
          "metadata": {},
          "execution_count": 138
        }
      ]
    },
    {
      "cell_type": "code",
      "metadata": {
        "colab": {
          "base_uri": "https://localhost:8080/"
        },
        "id": "vy9GVtMwiGnj",
        "outputId": "7541c346-d45b-451c-94b8-d3b7f0602d4d"
      },
      "source": [
        "B @ C"
      ],
      "execution_count": 139,
      "outputs": [
        {
          "output_type": "execute_result",
          "data": {
            "text/plain": [
              "array([[ 1,  2,  3],\n",
              "       [ 3,  6,  9],\n",
              "       [-2, -3, -5]])"
            ]
          },
          "metadata": {},
          "execution_count": 139
        }
      ]
    },
    {
      "cell_type": "markdown",
      "metadata": {
        "id": "m7JqdFPFiINi"
      },
      "source": [
        "If you would notice the shape of the dot product changed and its shape is not the same as any of the matrices we used. The shape of a dot product is actually derived from the shapes of the matrices used. So recall matrix $A$ with a shape of $(a,b)$ and matrix $B$ with a shape of $(b,c)$, $A \\cdot B$ should have a shape $(a,c)$."
      ]
    },
    {
      "cell_type": "code",
      "metadata": {
        "colab": {
          "base_uri": "https://localhost:8080/"
        },
        "id": "kNWJ7Z6siLFG",
        "outputId": "d1482139-ab84-4aa2-cfb3-2af2932930e9"
      },
      "source": [
        "A @ B.T"
      ],
      "execution_count": 140,
      "outputs": [
        {
          "output_type": "execute_result",
          "data": {
            "text/plain": [
              "array([[  6,  18, -10],\n",
              "       [  3,   9,  -1],\n",
              "       [  1,   3,  -2]])"
            ]
          },
          "metadata": {},
          "execution_count": 140
        }
      ]
    },
    {
      "cell_type": "code",
      "metadata": {
        "colab": {
          "base_uri": "https://localhost:8080/"
        },
        "id": "sofxTjnTiMdZ",
        "outputId": "f0896d0f-4180-4cd6-e0af-67cdfeee6cc2"
      },
      "source": [
        "X = np.array([\n",
        "    [1,2,3,0]\n",
        "])\n",
        "Y = np.array([\n",
        "    [1,0,4,-1]\n",
        "])\n",
        "print(X.shape)\n",
        "print(Y.shape)"
      ],
      "execution_count": 141,
      "outputs": [
        {
          "output_type": "stream",
          "name": "stdout",
          "text": [
            "(1, 4)\n",
            "(1, 4)\n"
          ]
        }
      ]
    },
    {
      "cell_type": "code",
      "metadata": {
        "colab": {
          "base_uri": "https://localhost:8080/"
        },
        "id": "C7cYYQK-iOIJ",
        "outputId": "d261615d-45ff-4eb9-95ae-96a845d9fbcf"
      },
      "source": [
        "Y.T @ X"
      ],
      "execution_count": 142,
      "outputs": [
        {
          "output_type": "execute_result",
          "data": {
            "text/plain": [
              "array([[ 1,  2,  3,  0],\n",
              "       [ 0,  0,  0,  0],\n",
              "       [ 4,  8, 12,  0],\n",
              "       [-1, -2, -3,  0]])"
            ]
          },
          "metadata": {},
          "execution_count": 142
        }
      ]
    },
    {
      "cell_type": "code",
      "metadata": {
        "colab": {
          "base_uri": "https://localhost:8080/"
        },
        "id": "zf1McpIQiP4F",
        "outputId": "8507f430-96de-47a3-f9bf-bba77219b2fc"
      },
      "source": [
        "X @ Y.T"
      ],
      "execution_count": 143,
      "outputs": [
        {
          "output_type": "execute_result",
          "data": {
            "text/plain": [
              "array([[13]])"
            ]
          },
          "metadata": {},
          "execution_count": 143
        }
      ]
    },
    {
      "cell_type": "markdown",
      "metadata": {
        "id": "MnvKQl3tiQ5V"
      },
      "source": [
        "And youcan see that when you try to multiply A and B, it returns `ValueError` pertaining to matrix shape mismatch."
      ]
    },
    {
      "cell_type": "markdown",
      "metadata": {
        "id": "uGVcFlwTiSCz"
      },
      "source": [
        "### Rule 2: Dot Product has special properties\n",
        "\n",
        "Dot products are prevalent in matrix algebra, this implies that it has several unique properties and it should be considered when formulation solutions:\n",
        " 1. $A \\cdot B \\neq B \\cdot A$\n",
        " 2. $A \\cdot (B \\cdot C) = (A \\cdot B) \\cdot C$\n",
        " 3. $A\\cdot(B+C) = A\\cdot B + A\\cdot C$\n",
        " 4. $(B+C)\\cdot A = B\\cdot A + C\\cdot A$\n",
        " 5. $A\\cdot I = A$\n",
        " 6. $A\\cdot \\emptyset = \\emptyset$ "
      ]
    },
    {
      "cell_type": "code",
      "metadata": {
        "id": "3_AFZXXXqP0I"
      },
      "source": [
        "A = np.array([\n",
        "    [4,3,1],\n",
        "    [5,3,5],\n",
        "    [5,0,4]\n",
        "])\n",
        "B = np.array([\n",
        "    [1,2,3],\n",
        "    [4,3,1],\n",
        "    [9,1,1]\n",
        "])\n",
        "C = np.array([\n",
        "    [2,3,6],\n",
        "    [5,7,8],\n",
        "    [1,2,1]\n",
        "])"
      ],
      "execution_count": 144,
      "outputs": []
    },
    {
      "cell_type": "code",
      "metadata": {
        "colab": {
          "base_uri": "https://localhost:8080/"
        },
        "id": "57ShAQENjE08",
        "outputId": "ab9c9ae9-8a79-450f-bbf0-19bee7a7d7c0"
      },
      "source": [
        "np.array_equal(A@B, B@A)"
      ],
      "execution_count": 145,
      "outputs": [
        {
          "output_type": "execute_result",
          "data": {
            "text/plain": [
              "False"
            ]
          },
          "metadata": {},
          "execution_count": 145
        }
      ]
    },
    {
      "cell_type": "code",
      "metadata": {
        "colab": {
          "base_uri": "https://localhost:8080/"
        },
        "id": "ps6Reum8jFWx",
        "outputId": "35d784b8-6d5c-46fe-8e94-a3a2757ba30b"
      },
      "source": [
        "E = A @ (B @ C)\n",
        "E"
      ],
      "execution_count": 146,
      "outputs": [
        {
          "output_type": "execute_result",
          "data": {
            "text/plain": [
              "array([[156, 233, 310],\n",
              "       [267, 400, 587],\n",
              "       [171, 259, 377]])"
            ]
          },
          "metadata": {},
          "execution_count": 146
        }
      ]
    },
    {
      "cell_type": "code",
      "metadata": {
        "colab": {
          "base_uri": "https://localhost:8080/"
        },
        "id": "btSANF6CjGr2",
        "outputId": "3c581e3d-34e7-4616-b7d7-cf753fca06ef"
      },
      "source": [
        "F = (A @ B) @ C\n",
        "F"
      ],
      "execution_count": 147,
      "outputs": [
        {
          "output_type": "execute_result",
          "data": {
            "text/plain": [
              "array([[156, 233, 310],\n",
              "       [267, 400, 587],\n",
              "       [171, 259, 377]])"
            ]
          },
          "metadata": {},
          "execution_count": 147
        }
      ]
    },
    {
      "cell_type": "code",
      "metadata": {
        "colab": {
          "base_uri": "https://localhost:8080/"
        },
        "id": "ApxY2MLIjIYK",
        "outputId": "5bebcbd8-290b-477b-b50b-a5d1e98953c2"
      },
      "source": [
        "np.array_equiv(E, F)"
      ],
      "execution_count": 148,
      "outputs": [
        {
          "output_type": "execute_result",
          "data": {
            "text/plain": [
              "True"
            ]
          },
          "metadata": {},
          "execution_count": 148
        }
      ]
    },
    {
      "cell_type": "code",
      "metadata": {
        "colab": {
          "base_uri": "https://localhost:8080/"
        },
        "id": "PjRo4OwvjIu2",
        "outputId": "766f981f-365b-43a4-d052-277b2d0d45e0"
      },
      "source": [
        "AB = np.dot(A,B)\n",
        "AB"
      ],
      "execution_count": 149,
      "outputs": [
        {
          "output_type": "execute_result",
          "data": {
            "text/plain": [
              "array([[25, 18, 16],\n",
              "       [62, 24, 23],\n",
              "       [41, 14, 19]])"
            ]
          },
          "metadata": {},
          "execution_count": 149
        }
      ]
    },
    {
      "cell_type": "code",
      "metadata": {
        "colab": {
          "base_uri": "https://localhost:8080/"
        },
        "id": "7Dh0XRwzjJlW",
        "outputId": "65f5753a-eff2-42f8-ec1a-070398680f1d"
      },
      "source": [
        "BA = np.dot(B,A)\n",
        "BA"
      ],
      "execution_count": 150,
      "outputs": [
        {
          "output_type": "execute_result",
          "data": {
            "text/plain": [
              "array([[29,  9, 23],\n",
              "       [36, 21, 23],\n",
              "       [46, 30, 18]])"
            ]
          },
          "metadata": {},
          "execution_count": 150
        }
      ]
    },
    {
      "cell_type": "code",
      "metadata": {
        "colab": {
          "base_uri": "https://localhost:8080/"
        },
        "id": "QuKvBWy8mdoD",
        "outputId": "2b3d063c-8526-4e94-87c0-794ce6c895c5"
      },
      "source": [
        "np.array_equiv(AB,BA)"
      ],
      "execution_count": 151,
      "outputs": [
        {
          "output_type": "execute_result",
          "data": {
            "text/plain": [
              "False"
            ]
          },
          "metadata": {},
          "execution_count": 151
        }
      ]
    },
    {
      "cell_type": "code",
      "metadata": {
        "colab": {
          "base_uri": "https://localhost:8080/"
        },
        "id": "XTsGkB4AmfBc",
        "outputId": "a88c59ed-582c-487f-f503-7ac2a450a823"
      },
      "source": [
        "BC= np.dot(B,C)\n",
        "BC"
      ],
      "execution_count": 152,
      "outputs": [
        {
          "output_type": "execute_result",
          "data": {
            "text/plain": [
              "array([[15, 23, 25],\n",
              "       [24, 35, 49],\n",
              "       [24, 36, 63]])"
            ]
          },
          "metadata": {},
          "execution_count": 152
        }
      ]
    },
    {
      "cell_type": "code",
      "metadata": {
        "colab": {
          "base_uri": "https://localhost:8080/"
        },
        "id": "fi4t4Lc2mgMp",
        "outputId": "4a6b2090-3362-4ce2-b97c-a1f2d7331ca3"
      },
      "source": [
        "ABC= np.dot(A,BC)\n",
        "ABC"
      ],
      "execution_count": 153,
      "outputs": [
        {
          "output_type": "execute_result",
          "data": {
            "text/plain": [
              "array([[156, 233, 310],\n",
              "       [267, 400, 587],\n",
              "       [171, 259, 377]])"
            ]
          },
          "metadata": {},
          "execution_count": 153
        }
      ]
    },
    {
      "cell_type": "code",
      "metadata": {
        "colab": {
          "base_uri": "https://localhost:8080/"
        },
        "id": "7Hdx_F2ZmhaX",
        "outputId": "45a78c42-95df-4863-b543-90721cb82f32"
      },
      "source": [
        "ABC1 = np.dot(AB,C)\n",
        "ABC1"
      ],
      "execution_count": 154,
      "outputs": [
        {
          "output_type": "execute_result",
          "data": {
            "text/plain": [
              "array([[156, 233, 310],\n",
              "       [267, 400, 587],\n",
              "       [171, 259, 377]])"
            ]
          },
          "metadata": {},
          "execution_count": 154
        }
      ]
    },
    {
      "cell_type": "code",
      "metadata": {
        "colab": {
          "base_uri": "https://localhost:8080/"
        },
        "id": "a_IxzgAemid7",
        "outputId": "23263890-57d2-4015-f457-007ccacf6036"
      },
      "source": [
        "np.identity(3)"
      ],
      "execution_count": 155,
      "outputs": [
        {
          "output_type": "execute_result",
          "data": {
            "text/plain": [
              "array([[1., 0., 0.],\n",
              "       [0., 1., 0.],\n",
              "       [0., 0., 1.]])"
            ]
          },
          "metadata": {},
          "execution_count": 155
        }
      ]
    },
    {
      "cell_type": "code",
      "metadata": {
        "colab": {
          "base_uri": "https://localhost:8080/"
        },
        "id": "NeM-3WZOmj74",
        "outputId": "aa1a3282-8c37-4730-dc37-4593e03bb5ba"
      },
      "source": [
        "A.dot(np.eye(3))"
      ],
      "execution_count": 156,
      "outputs": [
        {
          "output_type": "execute_result",
          "data": {
            "text/plain": [
              "array([[4., 3., 1.],\n",
              "       [5., 3., 5.],\n",
              "       [5., 0., 4.]])"
            ]
          },
          "metadata": {},
          "execution_count": 156
        }
      ]
    },
    {
      "cell_type": "markdown",
      "metadata": {
        "id": "gBeRwqIBmqDh"
      },
      "source": [
        "## Determinant"
      ]
    },
    {
      "cell_type": "markdown",
      "metadata": {
        "id": "_HBF92IYmrwg"
      },
      "source": [
        "A determinant is a scalar value derived from a square matrix. The determinant is a fundamental and important value used in matrix algebra. Although it will not be evident in this laboratory on how it can be used practically, but it will be reatly used in future lessons.\n",
        "\n",
        "The determinant of some matrix $A$ is denoted as $det(A)$ or $|A|$. So let's say $A$ is represented as:\n",
        "$$A = \\begin{bmatrix}a_{(0,0)}&a_{(0,1)}\\\\a_{(1,0)}&a_{(1,1)}\\end{bmatrix}$$\n",
        "We can compute for the determinant as:\n",
        "$$|A| = a_{(0,0)}*a_{(1,1)} - a_{(1,0)}*a_{(0,1)}$$\n",
        "So if we have $A$ as:\n",
        "$$A = \\begin{bmatrix}1&4\\\\0&3\\end{bmatrix}, |A| = 3$$\n",
        "\n",
        "But you might wonder how about square matrices beyond the shape $(2,2)$? We can approach this problem by using several methods such as co-factor expansion and the minors method. This can be taught in the lecture of the laboratory but we can achieve the strenuous computation of high-dimensional matrices programmatically using Python. We can achieve this by using `np.linalg.det()`."
      ]
    },
    {
      "cell_type": "code",
      "metadata": {
        "colab": {
          "base_uri": "https://localhost:8080/"
        },
        "id": "1nwL7Xp1mtry",
        "outputId": "bd7fd065-e675-402f-8dbb-5dfa0f9018ad"
      },
      "source": [
        "A = np.array([\n",
        "    [1,4],\n",
        "    [0,3]\n",
        "])\n",
        "np.linalg.det(A)"
      ],
      "execution_count": 157,
      "outputs": [
        {
          "output_type": "execute_result",
          "data": {
            "text/plain": [
              "3.0000000000000004"
            ]
          },
          "metadata": {},
          "execution_count": 157
        }
      ]
    },
    {
      "cell_type": "code",
      "metadata": {
        "colab": {
          "base_uri": "https://localhost:8080/"
        },
        "id": "wKfI_8jamvaA",
        "outputId": "8a232f31-7b27-4457-e582-47f439bd021e"
      },
      "source": [
        "B = np.array([\n",
        "              [1, 5, 2],\n",
        "              [3, -1 ,-1],\n",
        "              [0, -2, 1]\n",
        "])\n",
        "np.linalg.det(B)"
      ],
      "execution_count": 158,
      "outputs": [
        {
          "output_type": "execute_result",
          "data": {
            "text/plain": [
              "-30.000000000000014"
            ]
          },
          "metadata": {},
          "execution_count": 158
        }
      ]
    },
    {
      "cell_type": "code",
      "metadata": {
        "colab": {
          "base_uri": "https://localhost:8080/"
        },
        "id": "_tvF5mfcmwiT",
        "outputId": "3c6990eb-8f6d-4e68-c9a6-08bab257a251"
      },
      "source": [
        "## Now other mathematics classes would require you to solve this by hand, \n",
        "## and that is great for practicing your memorization and coordination skills \n",
        "## but in this class we aim for simplicity and speed so we'll use programming\n",
        "## but it's completely fine if you want to try to solve this one by hand.\n",
        "B = np.array([\n",
        "    [1,3,5,6],\n",
        "    [0,3,1,3],\n",
        "    [3,1,8,2],\n",
        "    [5,2,6,8]\n",
        "])\n",
        "np.linalg.det(B)"
      ],
      "execution_count": 159,
      "outputs": [
        {
          "output_type": "execute_result",
          "data": {
            "text/plain": [
              "-235.0000000000002"
            ]
          },
          "metadata": {},
          "execution_count": 159
        }
      ]
    },
    {
      "cell_type": "markdown",
      "metadata": {
        "id": "2A3lr_Jjm1XN"
      },
      "source": [
        "## ***Inverse***\n",
        "The inverse of a matrix is another fundamental operation in matrix algebra. Determining the inverse of a matrix let us determine if its solvability and its characteristic as a system of linear equation — we'll expand on this in the nect module. Another use of the inverse matrix is solving the problem of divisibility between matrices. Although element-wise division exists but dividing the entire concept of matrices does not exists. Inverse matrices provides a related operation that could have the same concept of \"dividing\" matrices.\n",
        "\n",
        "Now to determine the inverse of a matrix we need to perform several steps. So let's say we have a matrix $M$:\n",
        "$$M = \\begin{bmatrix}1&7\\\\-3&5\\end{bmatrix}$$\n",
        "First, we need to get the determinant of $M$.\n",
        "$$|M| = (1)(5)-(-3)(7) = 26$$\n",
        "Next, we need to reform the matrix into the inverse form:\n",
        "$$M^{-1} = \\frac{1}{|M|} \\begin{bmatrix} m_{(1,1)} & -m_{(0,1)} \\\\ -m_{(1,0)} & m_{(0,0)}\\end{bmatrix}$$\n",
        "So that will be:\n",
        "$$M^{-1} = \\frac{1}{26} \\begin{bmatrix} 5 & -7 \\\\ 3 & 1\\end{bmatrix} = \\begin{bmatrix} \\frac{5}{26} & \\frac{-7}{26} \\\\ \\frac{3}{26} & \\frac{1}{26}\\end{bmatrix}$$\n",
        "For higher-dimension matrices you might need to use co-factors, minors, adjugates, and other reduction techinques. To solve this programmatially we can use `np.linalg.inv()`."
      ]
    },
    {
      "cell_type": "code",
      "metadata": {
        "colab": {
          "base_uri": "https://localhost:8080/"
        },
        "id": "dtGIpc5foVel",
        "outputId": "8f0300e6-bd52-4b42-a807-875ffac73ac6"
      },
      "source": [
        "M = np.array([\n",
        "    [1,7],\n",
        "    [-3, 5]\n",
        "])\n",
        "\n",
        "np.array(M @ np.linalg.inv(M), dtype=int)"
      ],
      "execution_count": 160,
      "outputs": [
        {
          "output_type": "execute_result",
          "data": {
            "text/plain": [
              "array([[1, 0],\n",
              "       [0, 1]])"
            ]
          },
          "metadata": {},
          "execution_count": 160
        }
      ]
    },
    {
      "cell_type": "code",
      "metadata": {
        "colab": {
          "base_uri": "https://localhost:8080/"
        },
        "id": "ZBTCiDCCoYYm",
        "outputId": "efee2c8a-aa6d-45e5-a1c6-5a8c67863a30"
      },
      "source": [
        "P = np.array([\n",
        "              [6, 9, 0],\n",
        "              [4, 2, -1],\n",
        "              [3, 6, 7]\n",
        "])\n",
        "Q = np.linalg.inv(P)\n",
        "Q"
      ],
      "execution_count": 161,
      "outputs": [
        {
          "output_type": "execute_result",
          "data": {
            "text/plain": [
              "array([[-0.12578616,  0.39622642,  0.05660377],\n",
              "       [ 0.19496855, -0.26415094, -0.03773585],\n",
              "       [-0.11320755,  0.05660377,  0.1509434 ]])"
            ]
          },
          "metadata": {},
          "execution_count": 161
        }
      ]
    },
    {
      "cell_type": "code",
      "metadata": {
        "colab": {
          "base_uri": "https://localhost:8080/"
        },
        "id": "WgMuNd6VoZme",
        "outputId": "882e5722-c888-46dd-8653-2dd9c6fc4323"
      },
      "source": [
        "P @ Q"
      ],
      "execution_count": 162,
      "outputs": [
        {
          "output_type": "execute_result",
          "data": {
            "text/plain": [
              "array([[ 1.00000000e+00, -5.55111512e-17, -6.93889390e-18],\n",
              "       [ 8.32667268e-17,  1.00000000e+00, -2.77555756e-17],\n",
              "       [ 2.77555756e-17, -1.38777878e-17,  1.00000000e+00]])"
            ]
          },
          "metadata": {},
          "execution_count": 162
        }
      ]
    },
    {
      "cell_type": "code",
      "metadata": {
        "colab": {
          "base_uri": "https://localhost:8080/"
        },
        "id": "bOAMCsNIobGr",
        "outputId": "1a0f079f-c2fe-47b6-ead2-c2f0975943e8"
      },
      "source": [
        "## And now let's test your skills in solving a matrix with high dimensions:\n",
        "N = np.array([\n",
        "    [18,5,23,1,0,33,5],\n",
        "    [0,45,0,11,2,4,2],\n",
        "    [5,9,20,0,0,0,3],\n",
        "    [1,6,4,4,8,43,1],\n",
        "    [8,6,8,7,1,6,1],\n",
        "    [-5,15,2,0,0,6,-30],\n",
        "    [-2,-5,1,2,1,20,12],\n",
        "])\n",
        "N_inv = np.linalg.inv(N)\n",
        "np.array(N @ N_inv,dtype=int)"
      ],
      "execution_count": 163,
      "outputs": [
        {
          "output_type": "execute_result",
          "data": {
            "text/plain": [
              "array([[0, 0, 0, 0, 0, 0, 0],\n",
              "       [0, 0, 0, 0, 0, 0, 0],\n",
              "       [0, 0, 1, 0, 0, 0, 0],\n",
              "       [0, 0, 0, 1, 0, 0, 0],\n",
              "       [0, 0, 0, 0, 0, 0, 0],\n",
              "       [0, 0, 0, 0, 0, 0, 0],\n",
              "       [0, 0, 0, 0, 0, 0, 1]])"
            ]
          },
          "metadata": {},
          "execution_count": 163
        }
      ]
    },
    {
      "cell_type": "markdown",
      "metadata": {
        "id": "hZH3XgOZodjb"
      },
      "source": [
        "To validate the wether if the matric that you have solved is really the inverse, we follow this dot product property for a matrix $M$:\n",
        "$$M\\cdot M^{-1} = I$$"
      ]
    },
    {
      "cell_type": "code",
      "metadata": {
        "colab": {
          "base_uri": "https://localhost:8080/"
        },
        "id": "jW_VhldToem3",
        "outputId": "54b806f7-dfeb-4f78-aa08-6017f2c79279"
      },
      "source": [
        "squad = np.array([\n",
        "    [1.0, 1.0, 0.5],\n",
        "    [0.7, 0.7, 0.9],\n",
        "    [0.3, 0.3, 1.0]\n",
        "])\n",
        "weights = np.array([\n",
        "    [0.2, 0.2, 0.6]\n",
        "])\n",
        "p_grade = squad @ weights.T\n",
        "p_grade\n"
      ],
      "execution_count": 164,
      "outputs": [
        {
          "output_type": "execute_result",
          "data": {
            "text/plain": [
              "array([[0.7 ],\n",
              "       [0.82],\n",
              "       [0.72]])"
            ]
          },
          "metadata": {},
          "execution_count": 164
        }
      ]
    },
    {
      "cell_type": "markdown",
      "metadata": {
        "id": "7pkMaxw6oh_S"
      },
      "source": [
        "# ***ACTIVITY***"
      ]
    },
    {
      "cell_type": "markdown",
      "metadata": {
        "id": "1XNf2rB3okqR"
      },
      "source": [
        "## **Task 1**\n",
        "Prove and implement the remaining 6 matrix multiplication properties. You may create your own matrices in which their shapes should not be lower than  (3,3) . In your methodology, create individual flowcharts for each property and discuss the property you would then present your proofs or validity of your implementation in the results section by comparing your result to present functions from NumPy."
      ]
    },
    {
      "cell_type": "code",
      "metadata": {
        "id": "nXnOWy-PSsLL"
      },
      "source": [
        "A = np.array([\n",
        "    [5,9,5],\n",
        "    [1,3,5],\n",
        "    [6,2,4]     \n",
        "])\n",
        "\n",
        "B = np.array([\n",
        "    [5,4,5],\n",
        "    [7,3,6],\n",
        "    [3,3,4]          \n",
        "])\n",
        "\n",
        "C = np.array([\n",
        "    [3,5,4],\n",
        "    [2,6,7],\n",
        "    [4,2,4]          \n",
        "\n",
        "])"
      ],
      "execution_count": 63,
      "outputs": []
    },
    {
      "cell_type": "code",
      "metadata": {
        "colab": {
          "base_uri": "https://localhost:8080/"
        },
        "id": "87jFhM49Tl2B",
        "outputId": "dde5de26-0c4f-476f-b7d8-8e65ad794e2e"
      },
      "source": [
        "#1 \n",
        "A1 = A@B\n",
        "A1"
      ],
      "execution_count": 64,
      "outputs": [
        {
          "output_type": "execute_result",
          "data": {
            "text/plain": [
              "array([[103,  62,  99],\n",
              "       [ 41,  28,  43],\n",
              "       [ 56,  42,  58]])"
            ]
          },
          "metadata": {},
          "execution_count": 64
        }
      ]
    },
    {
      "cell_type": "code",
      "metadata": {
        "colab": {
          "base_uri": "https://localhost:8080/"
        },
        "id": "2NJc3frTTuLM",
        "outputId": "94f58abe-7c83-4ba4-e430-d131c30f62b9"
      },
      "source": [
        "B1 = B@A\n",
        "B1"
      ],
      "execution_count": 65,
      "outputs": [
        {
          "output_type": "execute_result",
          "data": {
            "text/plain": [
              "array([[59, 67, 65],\n",
              "       [74, 84, 74],\n",
              "       [42, 44, 46]])"
            ]
          },
          "metadata": {},
          "execution_count": 65
        }
      ]
    },
    {
      "cell_type": "code",
      "metadata": {
        "colab": {
          "base_uri": "https://localhost:8080/"
        },
        "id": "ToIffi7MT0_p",
        "outputId": "0c6c0b62-1a90-4dc9-aca6-815690b9bbc2"
      },
      "source": [
        "np.array_equal(A1,B1)"
      ],
      "execution_count": 66,
      "outputs": [
        {
          "output_type": "execute_result",
          "data": {
            "text/plain": [
              "False"
            ]
          },
          "metadata": {},
          "execution_count": 66
        }
      ]
    },
    {
      "cell_type": "markdown",
      "metadata": {
        "id": "J17RtG_67yMN"
      },
      "source": [
        "![image.png](data:image/png;base64,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)"
      ]
    },
    {
      "cell_type": "code",
      "metadata": {
        "colab": {
          "base_uri": "https://localhost:8080/"
        },
        "id": "0XSw2RKyaI44",
        "outputId": "31afaac5-1f04-40f9-c918-6e6e68a306ac"
      },
      "source": [
        "#2\n",
        "A2 = A @ (B @ C)\n",
        "A2"
      ],
      "execution_count": null,
      "outputs": [
        {
          "output_type": "execute_result",
          "data": {
            "text/plain": [
              "array([[1281, 1248, 1389],\n",
              "       [ 378,  364,  412],\n",
              "       [ 580,  570,  617]])"
            ]
          },
          "metadata": {},
          "execution_count": 180
        }
      ]
    },
    {
      "cell_type": "code",
      "metadata": {
        "colab": {
          "base_uri": "https://localhost:8080/"
        },
        "id": "tvYCs6-LaKWv",
        "outputId": "0f51cc9b-4e3a-4819-cce0-3862d25d846f"
      },
      "source": [
        "B2 = (A @ B) @ C\n",
        "B2"
      ],
      "execution_count": null,
      "outputs": [
        {
          "output_type": "execute_result",
          "data": {
            "text/plain": [
              "array([[1281, 1248, 1389],\n",
              "       [ 378,  364,  412],\n",
              "       [ 580,  570,  617]])"
            ]
          },
          "metadata": {},
          "execution_count": 181
        }
      ]
    },
    {
      "cell_type": "code",
      "metadata": {
        "colab": {
          "base_uri": "https://localhost:8080/"
        },
        "id": "_J0utTalaOVz",
        "outputId": "4ba7707e-7163-4a84-deae-c6abecd23610"
      },
      "source": [
        "np.array_equal(A2,B2)"
      ],
      "execution_count": null,
      "outputs": [
        {
          "output_type": "execute_result",
          "data": {
            "text/plain": [
              "True"
            ]
          },
          "metadata": {},
          "execution_count": 182
        }
      ]
    },
    {
      "cell_type": "markdown",
      "metadata": {
        "id": "_vslGbdK7ej_"
      },
      "source": [
        "![image.png](data:image/png;base64,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)"
      ]
    },
    {
      "cell_type": "code",
      "metadata": {
        "colab": {
          "base_uri": "https://localhost:8080/"
        },
        "id": "mgrM1nEyaTmu",
        "outputId": "f97c7fbc-88db-480d-b6f1-36222de3b741"
      },
      "source": [
        "#3\n",
        "A3 = A @ (B + C)\n",
        "A3"
      ],
      "execution_count": null,
      "outputs": [
        {
          "output_type": "execute_result",
          "data": {
            "text/plain": [
              "array([[204, 138, 177],\n",
              "       [ 52,  34,  42],\n",
              "       [114,  77, 110]])"
            ]
          },
          "metadata": {},
          "execution_count": 183
        }
      ]
    },
    {
      "cell_type": "code",
      "metadata": {
        "colab": {
          "base_uri": "https://localhost:8080/"
        },
        "id": "tBJuF2_VaUe7",
        "outputId": "eaec51e5-9a17-47e5-b25f-277402bca797"
      },
      "source": [
        "B3 = A @ B + A @ C\n",
        "B3"
      ],
      "execution_count": null,
      "outputs": [
        {
          "output_type": "execute_result",
          "data": {
            "text/plain": [
              "array([[204, 138, 177],\n",
              "       [ 52,  34,  42],\n",
              "       [114,  77, 110]])"
            ]
          },
          "metadata": {},
          "execution_count": 184
        }
      ]
    },
    {
      "cell_type": "code",
      "metadata": {
        "colab": {
          "base_uri": "https://localhost:8080/"
        },
        "id": "nHvdxOgRaWZl",
        "outputId": "c706b24b-f7d8-4f8d-baed-6efddf401c2a"
      },
      "source": [
        "np.array_equal(A3,B3)"
      ],
      "execution_count": null,
      "outputs": [
        {
          "output_type": "execute_result",
          "data": {
            "text/plain": [
              "True"
            ]
          },
          "metadata": {},
          "execution_count": 185
        }
      ]
    },
    {
      "cell_type": "markdown",
      "metadata": {
        "id": "uiwyloGQ7O7C"
      },
      "source": [
        "![image.png](data:image/png;base64,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)"
      ]
    },
    {
      "cell_type": "code",
      "metadata": {
        "colab": {
          "base_uri": "https://localhost:8080/"
        },
        "id": "Q3K4E2SFaZRJ",
        "outputId": "01ed524e-ba28-4361-97a3-456326c8885c"
      },
      "source": [
        "#4\n",
        "A4 = (B + C) @ A\n",
        "A4"
      ],
      "execution_count": null,
      "outputs": [
        {
          "output_type": "execute_result",
          "data": {
            "text/plain": [
              "array([[168, 152, 100],\n",
              "       [104,  95,  63],\n",
              "       [116, 133,  85]])"
            ]
          },
          "metadata": {},
          "execution_count": 186
        }
      ]
    },
    {
      "cell_type": "code",
      "metadata": {
        "colab": {
          "base_uri": "https://localhost:8080/"
        },
        "id": "DPoVn-WmaaQD",
        "outputId": "a6011f29-3615-4bc0-83f3-d8f1a7cfbd86"
      },
      "source": [
        "B4 = B @ A + C @ A\n",
        "B4"
      ],
      "execution_count": null,
      "outputs": [
        {
          "output_type": "execute_result",
          "data": {
            "text/plain": [
              "array([[168, 152, 100],\n",
              "       [104,  95,  63],\n",
              "       [116, 133,  85]])"
            ]
          },
          "metadata": {},
          "execution_count": 187
        }
      ]
    },
    {
      "cell_type": "code",
      "metadata": {
        "colab": {
          "base_uri": "https://localhost:8080/"
        },
        "id": "CD-3wlGbakso",
        "outputId": "7de8f19a-33b2-442c-ecba-6c4a497aa811"
      },
      "source": [
        "np.array_equal(A4,B4)"
      ],
      "execution_count": null,
      "outputs": [
        {
          "output_type": "execute_result",
          "data": {
            "text/plain": [
              "True"
            ]
          },
          "metadata": {},
          "execution_count": 188
        }
      ]
    },
    {
      "cell_type": "markdown",
      "metadata": {
        "id": "friaj5SN68vW"
      },
      "source": [
        "![image.png](data:image/png;base64,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)"
      ]
    },
    {
      "cell_type": "code",
      "metadata": {
        "colab": {
          "base_uri": "https://localhost:8080/"
        },
        "id": "9tAh1Bvhap2P",
        "outputId": "28158f52-f576-434b-ee9c-73d233c5ba54"
      },
      "source": [
        "#5\n",
        "A5 = A@B5\n",
        "A5"
      ],
      "execution_count": null,
      "outputs": [
        {
          "output_type": "execute_result",
          "data": {
            "text/plain": [
              "array([[6., 9., 6.],\n",
              "       [0., 4., 2.],\n",
              "       [8., 1., 1.]])"
            ]
          },
          "metadata": {},
          "execution_count": 195
        }
      ]
    },
    {
      "cell_type": "code",
      "metadata": {
        "colab": {
          "base_uri": "https://localhost:8080/"
        },
        "id": "mLH0cl3Maq40",
        "outputId": "faa9c4bd-54c2-45c5-f13d-9aef96d4dbc9"
      },
      "source": [
        "B5 = np.eye(3)\n",
        "B5"
      ],
      "execution_count": null,
      "outputs": [
        {
          "output_type": "execute_result",
          "data": {
            "text/plain": [
              "array([[1., 0., 0.],\n",
              "       [0., 1., 0.],\n",
              "       [0., 0., 1.]])"
            ]
          },
          "metadata": {},
          "execution_count": 193
        }
      ]
    },
    {
      "cell_type": "code",
      "metadata": {
        "colab": {
          "base_uri": "https://localhost:8080/"
        },
        "id": "vkhHNIHmatiV",
        "outputId": "95a716df-b485-4376-9cbe-c91943007291"
      },
      "source": [
        "np.array_equal(A5,B5)"
      ],
      "execution_count": null,
      "outputs": [
        {
          "output_type": "execute_result",
          "data": {
            "text/plain": [
              "False"
            ]
          },
          "metadata": {},
          "execution_count": 196
        }
      ]
    },
    {
      "cell_type": "markdown",
      "metadata": {
        "id": "CAWXSo_i6YWk"
      },
      "source": [
        "![image.png](data:image/png;base64,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)"
      ]
    },
    {
      "cell_type": "code",
      "metadata": {
        "id": "NvGBM5ynayIl"
      },
      "source": [
        "#6\n",
        "A6 = np.zeros(A.shape)\n",
        "A6"
      ],
      "execution_count": null,
      "outputs": []
    },
    {
      "cell_type": "code",
      "metadata": {
        "id": "h_eF2OoFazO2"
      },
      "source": [
        "B6 = A.dot(np.zeros(A.shape))\n",
        "B6"
      ],
      "execution_count": null,
      "outputs": []
    },
    {
      "cell_type": "code",
      "metadata": {
        "id": "nPg3ZZFla3ap"
      },
      "source": [
        "np.array_equal(A6,B6)"
      ],
      "execution_count": null,
      "outputs": []
    },
    {
      "cell_type": "markdown",
      "metadata": {
        "id": "FYDphaOT5Fbd"
      },
      "source": [
        "![image.png](data:image/png;base64,iVBORw0KGgoAAAANSUhEUgAAAcAAAAHpCAYAAAAVhuyNAAAgAElEQVR4Ae2dB7QcxZWG55zdPccJr704smcddkkiLBkDJhlLYJN5IHJOJhgwJltE+ZlgwGSMMCJIPJGzjbHBNvHJBIMNGAQSEiDWEsnIT+AHCLh7/pqpnro91V3z5s30dE//fc573benu7rqu7fu7aqu7qqIiMybNw+rxOWf//xn4m/4YdGiReYv7aBQGjiX+dAEyYM8NAEt0T7IQxPQEu0jzKOCQwgqDMo9IhTMeUPg0uINkqZBHuTBBoVrA930pwyAriZq27wh0FDIgzw0AS3RPshDE9BSnu2DAVDrykh5Vpib3W7eOTEfLgG9Tb2QhyagJdpHfnhU0F33f//3f9FzPNt9564XLlyY+vvw8LDgzz0nvj00NJT6O45nPqrPUi078iAPawu+Ne2D9uGzC7uP9hG2DwbA2gAeazRY03DChuPy4g2S5kUe5OHWj/g27SM/9sEuUN0aNxK7QDUU8iAPTUBLtA/y0AS0lGf7YADUujJSnhXmZpfPElwaIuRBHpqAlmgf5KEJiDAAxonwtZAGIrwh0EjIgzw0AS3RPorDgwFQ68pINGANhTzIQxPQEu2DPDQBLeXZPhgAta6MlGeFudlll45Lg12gmgZ5kAe/8OXagM+vMwC6hGrbPlDuYQw8Lg06Wk2DPMiDgce1gTz7UwZAV1O17TwrzM0uA7FLg4FH0yAP8mAgdm3A59crcKJz5841I+iw7fv7+9//7t1vj8VL7vizsm8dSgPnMB+aP3mQh68u2X20D9qHtQXfmvYRtg+2AN1bhNq2707BPQzGlrbYF1/TjgmlgXOZD02wjDxef/11eeqpp+T3v/+93HjjjXL55ZfLBRdcIGeeeaZMmDBBTj31VDn99NPl7LPPlosvvlimTJkit912mzz44IPy5JNPCl66Tlpop5oMeZSPBwOg1rmRyuhoPRiiXeQRoeiIfbz33nvy8MMPy+TJk+WII46QLbbYQsaMGSNLLbWUrL322rLNNtvI/vvvL8cee6ycdtppcv7558ull14qV1xxhVx55ZUmKF5yySVyzjnnyI9//GOTxp577inf/e53ZZVVVjHprL766rLjjjvKSSedJNdff708++yz0acJdem0xBs18tAEtFR0+2AA1Po0Eh2+hkIe7eWBrqmBgQE55JBDBIFp2WWXNcEJrblbb701Ck76qqOTFixYII899phcffXVJpBuuummsvTSS8vYsWPlxBNPlN/+9rfy/vvvN1yk6A7OLVCoLGwBurTKMW0XA6DWuZHo8DUU8hg9j4ceesh0WSLgfeMb35BjjjlG7rjjDnnzzTd14hlLs2bNMt2m++67ryyzzDKm1XjeeecJ9mMJBQ0cQ/vQSiOP4vBgANS6MhINWEMhj9Z4oFsTXZpo4e2www4m0Lz22ms6sZxJf/3rX+Wss86SDTfc0HS/nnHGGfLKK6+k5pL2ofGQR3F4MABqXRmJBqyhkEfzPNBiOvfcc2WNNdaQLbfcUqZNm+btWtQp5lN66aWXzGAbtFr7+vrM4BpfTmkfmgp5FIcHA6DWlZFowBoKeYR5zJkzR4488kjT2sNAEwSPXlowqnSfffaR5ZdfXi688EJVNNqHwsEuYY0j1zwYAGPKgsgKraGQRzKP2bNny0EHHWRGW2IUZ68v8+fPlxNOOMEEerx6gYX2obVOHsXhUYFB44E31kl/GLWW9Bv2YwJZ/KUdE0oD5zIfWgfkkV8eCHyHHXaYaRHh3buyLW+//bYZPYqBMz/96U9HVffpP7Sdk0d2PNgC9Hgu3sFpKOSheeAZH97Tw2jJsi+vvvqqHHjggWbQDEa6+pbQSFK+fqCpkUd2PBgANWsj0eFrKORR5TFz5kwzsAWvDHT79QWtoe5LCH7rrbeeeccwnhsGQE2EPPLDgwFQ68JIdPgaCnmI+UoLWn34zBiXZAJ4mR8jYB955JHoIDr8CIXZII/88GAA1LowEh2+hlJ2Hhjksssuu5gPvmsylHwE0BpcccUVZdKkSeZnOnxNiTzyw4MBUOvCSGV3+HEkZeWBcm+00UaCl8G5jIzAu+++KzvttJN5NYQOX7Mjj/zwYADUujBSWR2+B0VpeWAmheWWW05uuOGGJCzc3wSB4447znznNO1QDvrQdMgjOx4MgJq1kRgANZSy8cDzKzzvu++++zQISi0RwKfV8FWcpIUOX5Mhj+x4tGVCXMw5hj807ZP+spgQl/nQ/Mlj5Dzuv/9+85I3vuPJpX0EMIUTpnny+Qfa6cjtlP5UM2uVB1uAnjpethaPB4HaVRYe+FgDWn4PPPCAKj+F9hDAC/O77bZbQ2Js8Wgk5JEdDwZAzdpIZXH4KGzogTyOKQuPDTbYQG666SaPRXBXuwjge6mYyd5d6PBdGuWYh88tccgHddI+GABdTdS2y+LwUdyQ8eGYMvDAqw5ooXDpPAE8D7zmmmuiC3XSwUUXacLWmQ+XVjkCMQOg1rmRyuDwbbEZAMXMko75+rhkQwD1C3MkossZCwOP5k4e2fFgANSsjcQAqKH0Mg88PIczxsfYuWRH4NprrzWTBOOKdPiaO3lkx4MBULM2Ui87/Hhxy94CPPjgg+XSSy+NY6GcAYEdd9zRPHOlw9ewySM7HgyAmrWRGAA1lF7l8cQTT8g3v/lNXVhKmRF49tlnzTyKdPgaOXlkx6MC2Jh/ykL3rfGejm+/3Tc8PCz4s7JvPTQ0lPo7zmE+FilG5NFZHrvuuqvceuuturZRypQAWuCXX345/ceiuq3Tn9ZZIC50kgcDoGN4NnAz8GgD7EUezz//vJm1IFNvz4s1EJgxY4astdZaDICOH+qkw7c+Dms2bBYJu0AbqmQ5hv3bYpf1GeBJJ50kP//5zy0GrrtIYKuttpIHH3wwNQdltdMkKOShybTKgwFQczRSrz7z8hS1tO8B4osvCxYs8CHhvowJ4J3Aww8/PPWqrTo4N9FQGrZ15J4T3w6lgePpPzS1PPNgANS6MlKeFeZmN1QZWaFdWvXh9pjpYdNNN9U/UuoaAdjxMsssk3r9kK3jZNZbjZA8wjwYADUjI9FwNJRe44EPM5999tm6kJS6SgDzLs6aNSsxDwyAGg15tIcHA6DmaKRec/ieIka7yliRMPoTs5ZzyQ8BzBvofh4tnrMy2mmcgSuTh0uj9U86MgBqjkZiANRQeo3HyiuvbEbA6VJS6iYBBL/jjz8+MQt0+BoNebSHBwOg5mikXnP4niJGu8pYkZZaaqmo/F3fmDsgfZWKVOzfxMFqlqb31/fZ3yoV6Z9e/XnetD6p2GNtIXznmGMGpd9Jo+Fa9vwurjH/4i677JKYgzLaaSKMJj7sjXPpxzRBH4+2TIiLl9zxByNN+mt1wkI3vVAazIfmTx6NPF577TVZccUVdc3omjRPBsb3yUD1m9AmF4MT60Gumi0c0y+1sFjLKQJav/RP1OfK9H7pmzbPKU1j+gicNog6B3Z988UXX5SxY8fSf/zzn8aX0p/W624n/RhbgJ6q77tTcA8L3Y1y9KVLqz76Uu/VUogpjm6HXl599VXz4rW+evekxoAXz4snANpAZ9f2lLgsxQmAr7/+eupn6bKyD9TdtIX50HSKzoMBUOvTSO1wtKxIdbB5uiFACxBfHsnTgiCY3C0ZD4BuUIv95ukC1S1Ckby2AKGXtO+yFt3RuvYWKkue6kuv+zEGQNcya9sMgBpKL/F45513ZIUVVtAFzJGEAKWDVizIxZ8ZOs8FVRcojhs/IG6HKIqZ1wA4e/Zs2WSTTRI1EQoapmzz4qXVyYXSYODRvMrAgwFQ69xIveTwe/0OzlVfsw4uP4Ngqs/y1PM9bzdm/RlgQ5epG+ji56JFGBsok9cAODg4KLvvvrurTrUd0i0OZr1VyMhD4/DyYACMQWJFagTSa45l9dVXl7feequxoN3YE2/RNbTa3BagJ2CKSBQU4wGw9pvbosxrAJw6daqcfPLJiRpgANRoyKM9PBgANUcj9ZrD9xQx2lXGirTXXnvJvffeGzHgRvcJHHnkkXLjjTcmZqSMdpoIg69BNKBp1T4YABtQsisljqTXbgguueQSOe200+LFpNxFAuuuu668/PLLiTlo1cG5CYbSKMMzL/JwCQinQ9I4qlKvOXxfGe2+kFPAcb3G47nnnpNvf/vbFgHXXSaA93tD72aW0U7T1EIemk6rPCrz5883H6HFOulv7ty5ib/hHEyYir+k87E/lAaOwcdwR5MG86F1SB7JPFZaaaVgYNdVjFKnCGBG+B/84Aejqvv0H9rWyaM5HuwC9dTqXmvxeIoY7Wr1zilKoInnEXnsWjr99NM5I4SrxC5ub7zxxvKnP/0pNQdltdMkKOShybTKgwFQczQSA6CG0os8UKbll19eF5RS5gQef/xx0x3N13Xq6PN4w1jPnd5qNfC4qYTS6CQPBkBXE7XtXnT4nmKaXSHjw0G9yuPAAw+UgYGBJDTcnwGBPffcU2644QZhAKzD7qTDr18lPIVQGfLBAOhaRG27Vx2+p6jm48O+/e6+XuUxc+ZMwbNALt0h8Oijj8r6669vgh8DYF0HZQg89dJ2NxAzALqaqG33qsP3FLXUARA8jj32WDnrrLN8aLivwwQ222wz+e1vf8sAGOPMAKiBdJIHA6BmbSQGQA2ll3mgco0ZM0bwagSX7AhMmjRJ9ttvP3PBTjo4t0Sh7n7mw6WVr1lcoJu0JaRbnOvzYwyAHqo+UO5hIdisSC6t/FekO+64I/VDzLo0lEZLYMaMGeam4x//+IdJivVFEyWP7Hi0ZULchQsXCv4QGJL+QpPZ4jy8K5h0PvaH0mA+NH/yaJ7H0UcfLccdd5yueZQ6QmC99daTW2+9NarrtNPm7dT6x5AvpD/VTJN4sAXoqeJsAWooZeGx9dZby+TJk3XhKbWVwD777CNnnnmmSpMtHoWDz0Q1jo7yYACMwYZYFoePsuLOKLSUhcfbb78tmCnitttuCyHh7y0QQAv7sMMOaziTAVAjIY/seDAAatZGKovDR2EZALUBYDAMXpC/88479Q+URkUAUx3hnT/fQoevqZBHdjwYADVrIzEAaihl44Fv0iII3nzzzRoEpZYIoOWXFPyQIB2+xkoe2fFgANSsjVQ2h+9BoHaVkQc+JL7OOuvIz3/+c8WCwsgI7L///nLwwQennkSHr/GQR3Y8GAA1ayOV0eF7MES7ysrj/ffflx122EGOOuqoiAU3miOAEd3jxo0TfHQ81M1Oh6+Zkkd2PBgANWsjldXhe1CQh4icdNJJghkLXnjhhSRE3O8QuOWWW8x7frYLmQHQgdPEc3cGQM2rkzwqSBzdPfYivjXe0/Htt/uGh4cFf1b2rYeGhlJ/xznMxyLFiDzyw8M69csuu0zXTkqKAOb123TTTQXfWbV+gP5D2zF55IcHA+AirQwGYvKwjju+fvPNNwXvsW255ZbyzDPPKMdfdgGtPXxSDt9VjXOjw9d1ijzyw4NdoB7PxS5QDYU8NI+pU6eaWSQmTJhgej70r+WSnnzySenr65Ptt9/etPp8pWcXqKZCHvnhwQCodWEkOnwNhTz8PH72s5/JsssuW8rZJPA8FPMprrXWWoIbgrSFDl/TIY/88GAA1LowEh2+hkIeyTzeeecdOeWUU0wgPPXUU+Wtt97SB/eY9Oc//9nM4rDqqqvK1VdfbUpH+9BKJo/i8GAA1LpihSYPDwG9y+fgcFeP5194DnbAAQfIww8/rE8quHTjjTcK5u/79re/Ldh2Fx8P93e2eFwa4a8v2Weo+iwthZjiaOpFM/PxYADUjIzkA+UeFjI+GrBLq3xf+pg2bZoZKLPmmmvK2WefLS+99JIGUhDpj3/8oxxxxBGyzDLLyEEHHZQY1FlftELJozg8GAC1roxEA9ZQyKM1Hgh8aBWuvfbasv7668sZZ5whf/nLX3RiOZPuueceE/TwbBODW6688kr54IMPUnNJ+9B4yKM4PBgAta6MRAPWUMhj9DwwaOSCCy6QLbbYQpZeemnZfffd5dJLL5WnnnpKJ56h9N5778n9999vvtaC7k209Pbee2+57rrrBDNjYAn1duAY2odWGnkUh0dbJsTFS+74Q2VJ+stiAkfmQ/Mnj/zy+PWvfy0TJ06UzTffXJZaainTQsQ3My+++GL53e9+19Zu03fffde8t3j77bebViiC78orr2wC3i677GIC82OPPeatu6y32obIo7d4sAWob1aMxDs4DYU8Os/j5ZdfNlMwocsUH5DeaKONTIBCcMSrBmg57rHHHnLIIYfIscceK5he6MQTTzTr/v5+s41vluLVhJ133lk22WQTE+Rw/oorrmjOP/zww2XSpEnywAMPyIIFC6IX1nXptMQWIHloAloqun0wAGp9GokOX0Mhj+7yeOONN2TGjBkyODgod911l9x0000yMDBgvlG6wgoryJQpU+Saa66RW2+9VfAM79FHH5XZs2fL66+/rjMekzhYSwMhj/LxYADUOjcSHb6GQh755PHII4+Yj3Tr3NWl0N05HX6dFbbIo3w8GAC1zo1Eh6+hkEc+eTAA5lMvrC/F0QsDoNaVkWjAGgp55JMHA2A+9cL6Uhy9MABqXRmJBqyhkEc+eTAA5lMvrC/F0QsDoNaVkWjAGgp55JMHA2A+9cL6Uhy9MABqXRmJBqyhkEc+eTAA5lMvrC/F0Utl/vz5MmvWLME66W/u3LmJv+EczFyOv6TzsT+UBo5hPrQOyIM80urUvffeKxtuuGFivQvVOdZbbV/kUT4ebAHqmxUj8Q5OQyGPfPJgCzCfemF9KY5eGAC1roxEA9ZQyCOfPBgA86kX1pfi6IUBUOvKSDRgDYU88smDATCfemF9KY5eGAC1roxEA9ZQyCOfPBgA86kX1pfi6IUBUOvKSDRgDYU88smDATCfemF9KY5eGAC1roxEA9ZQyCOfPBgA86kX1pfi6IUBUOvKSDRgDYU88smDATCfemF9KY5e2jIh7sKFCwV/SZPhYn8WE0kyH3qySvLobR6YHmns2LGJ9S5U52gfvW0feA90ND65DPbBFqC+WTES7+A0FPLIJw+2APOpF9aX4uiFAVDrykg0YA2FPPLF46OPPjIZYgDMl15sblhfLInqOs88GAC1royUZ4W52eWEpy4NMd09eo+WemHC06GhIdlggw1k8uTJ8vDDD5sJcV9++WXZeeed5dBDD1UFpn0oHKWwD7fE9GMuDREfDwZAzchIPlDuYXQsLo1yBB63xN22jy222EI+/vGPy5e+9CVZfPHF5Qtf+IJ87GMfk0mTJrnZpMNXNGinMRy0DxFhAIxbhfjvFNzDGABdGnQsmkbneTz22GPy5S9/WSqVSvS33HLLxbNBBxcjwnqrgZAHA6C2iJrU7Tt8mynmw5KorsmjzmO33XaLgt9iiy0mV199df3H2hYdnEZCHuShCTAAxnkYmY5WYyGP/PF49NFH5Ytf/KIJgr7WH3JMh6/1Rh7koQmIVDAwAPNg2QECvjXeB/Htt/uGh4cFf1b2rfHw3rff3cd8LFKMyIM83PoR3952223Ns8ApU6You7HHsd5q+yEP8rB1w64ZABdpowAYBh7NhDwWyYIFC6K/mTNnRtvufruNSWzttm/9xhtvCP58v9l9oTRw3GWXXSbjxo1LTCeURrvy0Uke1lHxBlrXSfJoDw8Ogom3iTkIpoFI2btAL7/8cllmmWVklVVWMX8rrbRStG33ueuVV1459Xf32KTtZtLo9Xxgtnt8zQRLqPsSx5TdTuMVlzw0ER8PBkDNyEg+UO5hocpo71rdc+LboTRwPPOhqXWLB96xu/fee3VmKHWUAHiDu11YXyyJ6po82sODAVBzNFK3HG08K8yHJtINHmiBfOMb39AZodRxAscff7yg5W0XOnxLoromj/bwYADUHI3UDUfryQZbgDEo3dALnDCcMZdsCeCmw3Z/4sp0+Jo/ebSHBwOg5mikbjhaTzYYAGNQuqEXdn/GlJCBGO/+xCXp8DV48mgPDwZAzdFI3XC0nmwwAMagZK0Xdn/GFJCRGO/+xGXp8DV88mgPDwZAzdFIWTtaTxaYDw+UrPXC7k+PEjLYFe/+xCXp8DV48mgPj7ZMiIt3UvAHpST9hSbnxHm44046H/tDaTAfmj95jI7HDjvswNGf2s90XEL3J7jH/UCo7tN/aFsnj+Z4sAXoqdJZtzQ8WTC7mA9NJkse7P7U7LOSfN2fuDYcemjJ0j7S8sJ8aDp55sEAqHVlpDwrzM1uyCnwfUSXlkSfC9N7tWSZsvtTc8lK8nV/4tpWL2n5YL3VdMgjzIMBUDMyEg1HQykjD47+1DaQheQb/WmvywBoSVTX5NEeHgyAmqORyujwPRiiXWXjwe7PSPWZbiR1fyITdPhaFeTRHh4MgJqjkcrm8D0I1K6y8WD3p1J/ZkJS9ycyQIev1UAe7eHBAKg5GqlsDt+DQO0qGw92fyr1ZyKkdX8iA3T4Wg3k0R4eDICao5HK5vA9CNSuMvHA1D5oiXDJlkBa9ydyQoev9UEe7eHBAKg5GqlMDp8VSRvAJZdcwm9/aiSZSGndn8gA7VSrgTzaw6OCSTNnzZolWCf9YVBA0m/YjwlT8Zd2TCgNnMt8aB2QR/Y8+vr6+PK79i0dl9D9idnt6T+q9k5/qut9J3mwBeip3mwBaihl4YGbtDXXXFMXnlLHCaD7E7Pbpy1s8Wg65NEeHgyAmqORyuLwUVhWpLoBYPTnhAkT6ju4lQkBdH/OmTMn9Vq0U42HPNrDgwFQczQSA6CGUhYeHP2p9Z6FhO7PHXfc0XylJ+16dPiaDnm0hwcDoOZopLI4fBSWFalqAHz53VMRMthluz/x2b60hXaq6ZBHe3gwAGqORmIA1FDKwIMvv2udZyXZ7k8GwDpxfsO3zgJbneTBAKhZG6kMDt8Wm3eSVRLs/rQWkd3avvzeSQfnliZk68yHS6uzgce9Ujf1wgDoaqK2zQCoofQ6D1/35+DEPhmYKyJzB6SvUtu29jGtT/qmzROReTIwviKVivvXL4PmOPxmt2snIq3xAzJven/snOr5/dM198GJ2K/TmDetr2GfID2k6+RP5wnpoAy+/DplQ/4mVnOPpKrXsmWLHafK7OYzfg2df7eE9uV3Bh6XSjkCj1virgZAXBwOAOukv9BklAsXLhT8JZ2P/aE0cAzzoXVAHtnwwMvv8dGfKgCO76sGrlqtRWCoB0Dt4NN+M8HUCVTVAKrPdx0D8tA3viL1wIjggn3uOdV9/RP7nONsKoPSH7oegqcNek4ANMHP7kdy5kagdl3nOHslu66Xv7bHTd8eVFvjlRN8eYf+Q9s5eWTHgy3AWKWE2OstHrfIuPEILb3Ow9f9qQLgxEHTGqoGvWrLKKsAODAtHqAGdMvSBiO7VspsNQAiqLpBViVaDYZucHR/Tgl47mG2+xP72AJ0yZCHptFZHgyAcdoMgA1EejkA+ro/ASAeAKuttWo3YL2VE+/uqzhdkZ4ggiAVapE59Kt5qAcxXLd/uk4X3aS2hRjlOUqjfm51lye/bhdrFETj50UJVjdwXLwL1A2ICILR7/5Aars/kSADoOZLHtnxYADUrI3Uyw4/XtyytwCTRn9GwSQKCrVuwPEDMpjSBVrnqwOV2d9SAEQ6ted3E/Gcz013UPqjQFN9VmdbqdV8xAOZey6CfD14RvkzgUwfZ8s0b/pg9Tmjy8T+mLRuKHP1QPfbn3T4Gh55ZMeDAVCzNhIDoIbSyzx83Z8ovTcAOgNDkrpAXXIIMG5Aqrcc7VH+QGN/tXkw503sl/5o4E21VdWYHgKi2+JKD4Buq9Zc0wlsSDt6Nogf8ZsdDOQcZ/Nq1w1BVeJ5EPOtVXC3Cx2+JVFdk0d2PBgANWsj9bLDjxe3zC3ApO5PMLLBxzh+t3uvNvKzmQAocP5uC011f+IqzQVAFXyic3CuMzKzplgdFOPBx3M9E9hqQTMW2EwQjPLvXMucY0eH2rX9Hdew+7C2++uW53Z/Yi8dfp0NeWgWnebBANjIm4NgYkx69YYgqfszVnyKbSbgdn8iaQZADZg8suPBAKhZG6lXHb6nqKX+FFpS96ePE/e1h4A7+tOmSIdvSVTX5JEdjwpgY74lC923xnspvv123/DwsODPyr710NBQ6u84h/lYpBiRR+d4YPYBtES4ZEvA/fan9RP0H9rOySM7HgyAizRsBuJy8MD8c3DGXLIl4H77kwGwsa6BCQOg5tJJHuwC9dR/doFqKL3Ig92fWsdZSL7uT1zXBsK0PJR5sJaPC3loKq3yYADUHI3Uiw7fU0yzq1XDcdMLpZE3B5c2+tMtF7fbSyA++tOmnjf7sPnyrUO2jnPoPzS5PPNgANS6MlKeFeZmN1QZ6VhcWvWWBkd/ai5ZSfHRn/a6tFNLoromj+x4MABq1kZiANRQeo0Huz+1frOQkro/cW06fK0B8siOBwOgZm2kXnP4niJGu0KtSBzYSzw4+jNSfaYbSd2fyAQdvlYFeWTHgwFQszZSLzl8VKa0pWwBkKM/06yhc78ldX/iinT4mjt5ZMeDAVCzNhIDoIbSSzx23HFH8y1KXUJKnSSQ1v2J69Lha/rkkR2PCloAo514FS+54w9pJf1lMSEu86H5k4fm8eyzzwomYeWSLQFMNoxJh5N8A+1U2yl5ZMeDLUCPL+ilFg/uJtMWOKXQ0is82P0Z0nRnfsdNB26ykxa2eDQZ8siOBwOgZm2kXnH4rEhauez+1DyykND9ucMOO6Reinaq8ZBHdjwYADVrIzEAaii9wIMvv2udZiVh9Ce6P9MWOnxNhzyy48EAqFkbqRccPgrCilRXLl9+r7PIcgujP2fOnJl6SdqpxkMe2fFgANSsjcQAqKH0Ag++/K51moVkR3+GnjPT4WttkEd2PBgANWsj9YLDR0FYkarKZfenx8gz2GVffmcA1LDJIz88GAC1LozEAKihFJ0Huz+1PrOS7BIz+tkAACAASURBVMvvdPiaOHnkhwcDoNaFkYru8G2R2AKskmD3p7WI7Na2+xNXpMPX3MkjPzwq8+fPl1mzZgnWSX/oQkr6Dfsxczn+0o4JpYFzmQ+tA/IYPY/HH39cVlttNXn77bf5lyGDo48+Ws4991zjE0J1n/5D2zl5ZMeDLUB9M2IktgA1lCLzGBwclK985SuyyiqrNPW38sorB49baaWVUo9pJo1QfppJY8yYMbLEEksk5qWZNNqRDx+PrbfeOnr5nS0eXZ/IIz88GAC1LoxUZIfvFoddoC6N3hsU9Mgjj8jGG2+sC+lIdLQODHbFahjkYXgwADaYRW9N/4MgmLaEnCTO5Q2BJpgXHgyA+dRLXuyD+QjbBwOgZmQkGo6GQh755MEAmE+9sL4URy8MgFpXRqIBayjkkU8eDID51AvrS3H0wgCodWUkGrCGQh755MEAmE+9sL4URy8MgFpXRqIBayjkkU8eDID51AvrS3H00pYJcRcuXCj4w4CKpL8sJsRlPjR/8uhtHnjFY+zYsS3XOdpHb9sH3r9M8sfYH/LJZbAPtgD1zYqReAenoZBHPnmwBZhPvbC+FEcvDIBaV0aiAWso5JFPHgyA+dQL60tx9MIAqHVlJBqwhkIe+eTBAJhPvbC+FEcvDIBaV0aiAWso5JFPHgyA+dQL60tx9MIAqHVlJBqwhkIe+eTBAJhPvbC+FEcvDIBaV0aiAWso5JFPHgyA+dQL60tx9MIAqHVlJBqwhkIe+eTBAJhPvbC+FEcvFXwsGfNP2ZkDfGu8D+Lbb/cNDw8L/qzsWw8NDaX+jnOYj0WKEXmQh68u2X1//OMfZdy4ccpm7G9Ys95q+yEP8nDrB7YZABdpowAUBh7NhDzyyYMBMJ96YX0pjl7YBapb60ZiF4aGQh755MEu0HzqhfWlOHphANS6MhINWEMhj3zyYADMp15YX4qjFwZArSsj0YA1FPLIJw8GwHzqhfWlOHphANS6MhINWEMhj3zyYADMp15YX4qjFwZArSsj0YA1FPLIJw8GwHzqhfWlOHphANS6MhINWEMhj3zyYADMp15YX4qjFwZArSsj0YA1FPLIJw8GwHzqhfWlOHppy4S4eMkdf6OZfBHnjnYCR+ZDT/BJHr3NY7QT4tI+ets+6E+1fn082ALUNytG4h2chkIe+eTBFmA+9cL6Uhy9MABqXRmJBqyhkEe+eHz00UcmQwyA+dKLzQ3riyVRXeeZBwOg1pWR8qwwN7voNk5b7Hfv0o4JpYFzyUMT7CYPdFtusMEGMnnyZHn44Ydl4403lpdffll23nlnOfTQQ1VGQ7qlfShc0TdV9V4thZji6G7ah5tb5sOl4dcLA6BmZCQajoZCHvniscUWW8jHP/5x+dKXviSLL764fOELX5CPfexjMmnSJJXRkLNmAFS4GAA1jlLwYACMKR0iHb6GQh754vHYY4/Jl7/8ZalUKtHfcsstpzMpYgalNex0djAAOjBESuHw3RLzBkmEAdC1iNo2Hb6GQh7547HbbrtFwW+xxRaTq6++WmeSAZA85s1rYODuYABkAHTtIdqmw49QmA3yyB+PRx99VL74xS+aIOhr/SHHdHBab+RBHpoAA2Cch5Hp8DUW8sgnj+222848C/S1/pBjOnytN/IgD01ApDJ//nyZNWuWYJ30hxcIk37DfkwAib+0Y0Jp4FzmQ+uAPEbO44UXXpCkv+eff17wl/Q79s+YMSP1dxzz5JNPph4TSqNd+bj44ovNiNCk8mSVj6x5JPkZ1peR15cklthfBr/OZ4DxWwIOgmkgUqQW4Pe+9z35+te/3vLf1772teC5oWNCvzeTv2bSCB0T+r2I+bjpppsa7NPuKJKd2jz71hycpKl0kgcDoGZtJFYkDaVIPBAA05ykLhmlIhEI6bZIdprGvZMO370uu4T5DNC1h2ibFSlCYTaKxCPkJHXJKBWJQEi3RbLTNO4MgJpOJ3mwBahZG4kVSUMpEo+Qk9Qlo1QkAiHdFslO07h30uG712ULkC1A1x6ibVakCIXZKBKPkJPUJaNUJAIh3RbJTtO4MwBqOp3kwRagZm0kViQNpUg8Qk5Sl4xSkQiEdFskO03j3kmH716XLUC2AF17iLZZkSIUZqNIPEJOUpeMUpEIhHRbJDtN484AqOl0kkdbJsRduHCh4A93FEl/f//73xN/s+f4Jiy0v2EdSoP50PzLyGPfffflKFDtP3pGQgC85pprEv0I/Yeu/+QR5sEuUI974J2khlIkHqFWgi4ZpSIRCOm2SHaaxr2TLR73umhUpC1lyAcDoMcCWJE0lCLxCDlJXTJKRSIQ0m2R7DSNexkCj1v+bgZiBkBXE7VtViQNpUg8Qk5Sl4xSkQiEdFskO03jzgCo6XSSBwOgZm0kViQNpUg8Qk6yWrJ5MjC+Iv3TdTllen80xVBl4mDsxyKLg9I/fkDqk+MMSn+lTwbmjqBM0/ulb1o9hRGcGTx03rS+Rl14zgrptkh26iletKuTDj+6CD+WblAwALoWUdtmRdJQisQj5CRNyRDoJvY3BgUnSAxOHGGA0MhyJcXLgoDTN7Ff+kYS5DsYAAFrcGK/hG45Qrotkp2mGQgDoKbTSR4MgJq1kViRNJQi8Qg5SZTMBgS7NqU1Dn5A+u0s67XggGDhzryO7XjL0QSU8fXjqr+jldkv/RPtrO2NDj6edrWFVW2dVq9ZD8L1a1T3qXNtIHNbsBV7vXjrr5qvQbFrrWsjzR2QPsvBthTBB0Gztj9qDapjLZuksvvLVuef3sIM6bZIduqhHu3qpMOPLsIWoEHBAOhaRG2bFUlDKRKPkJMUOGzb0sO2Ch42aCBIWmeuWfgkE4zcdMx21dnbYGkCWFIXopMnfRy6Kqt5UvtN0GnMqwroNqPxlptp/dbaWvHfaufgWjbfNhnTPexyq23Pm45QWluitP1lV2WQetnM2a4ubHqxdUi3RbLTWNGUyACocEgneVSQOOZ9shfxrfE+mW+/3Tc8PCz4s7JvPTQ0lPo7zmE+FilG5DFyHvvvv3/qe4BwwrpFVwsksWBgnXXj8Y2BEcdEASNy5NVWUNStF+3XlVsFZNM6tS1Gu663+BqvUU3L5tWkFbXc/OVCYFflt0FNZQvByR5Xa4UqPm6r0m3VVaT67NRf9oZr29Ylrg0+3rzUM4YAeP3116s64voa1peR1xeXX3y7DH6dAXCRNhoG4mLzSA+AsVYH5n7E8zDTMnN/0y2Yugv2byUHwHqwrF/HScPj9L3H1fKpAmDUxelvrUbpuIHLc71gS9e26tx00HqrBSvV6rTHmu7VxrJHeXIQRJtJNwjRASIMgPW6yQZFnQV8dqs82AXqVDC7ya4US6K6LhKP1G6yyEG75XMCH363LR/bpekemrANx66CU9QF6jwDjFo3CK5oVcVaTrhudJ5tfWFd7wKNrlELiPG86haW7SKtBytvAIqCos1X9aYgStu20hICINKMjo0GFiGtpLI3ls1gVen7QafqlhNZN0ArUr1tyLyzw7ZMnV0Nm6F3CXGCjwcDYANKPyj3sBDsTiqM+XAJ6G3oJeQk9RmdlKpBIOoC7eSlAmmrVlrg2Pb8PNKyN3d8SLc+B+eWh/XWpSHmk3J6j5bK4McYALXOjcSKpKEUiUfISeqSdVJqzql3Mgf1tOutwPq+Tm6NrOyqBZ2SrZBui2SnKcWMnnGmHRMK5jiXPDRBHw8GQM3ISD5Q7mEh4yvDnVNeeYScpJtvbheLQEi3rLdan+QR5sEAqBkZiYajoRSJR8hJ6pJRKhKBkG6LZKdp3HkDrel0kgcDoGZtJFYkDaVIPEJOUpeMUpEIhHRbJDtN495Jh+9elz1ZnBDXtYdomxUpQmE2isQj5CR1yfIq4RmaO1rSjhCt5tcd7emODM1radqVr5Bui2SnaUwYADWdTvJoy4S4eAcDf7ijSPoLTWaL80Y7gSPzofmXkUdvTIgbH0QCOfRCunYavSghAHZyQtwy1pckf439ZeDBLlCPp+CdpIZSJB6hVoIuWV4lTwCcWJ3NwbzSMK3+vmJjC9D9ikutFRm9g5jX8jaXr5Bui2SnaSXuZIvHvS6CXNpShnwwAHosgBVJQykSj5CT1CXLq+TpAq29EG+6P6OX9J2X+PNalDbmK6TbItlpGpYyBB63/N0MxAyAriZq26xIGkqReIScpC5ZXqV4C7D+yTb9UrvTNRoVhS3ACEVso5uO1s0K8+HS6O4L+QyAWhdGKpLD92Q/2lXGO8leDoCmu9P9nBs+Y+Z8EzRSfI9uhHTLeqsVTx5hHgyAmpGRaDgaSpF4hJykLlleJU8XaNTtWf34tf3+ZuMzwLyWafT5Cum2SHaaRqOMN67d4sEA6CHPiqShFIlHyEnqklEqEoGQbotkp2ncGQA1nU7yYADUrI3EiqShFIlHyEnqklEqEoGQbotkp2ncO+nw3evyWSRfhHftIdpmRYpQmI0i8Qg5SV0ySkUiENJtkew0jTsDoKbTSR6V+fPny6xZswTrpD+8oJ70G/ZjJmb8pR0TSgPnMh9aB+Qxch577LFH6ozwumpRKhIBTHY8efLkRD/D+jLy+pLms8vg19kF6vEAvJPUUIrEI9RK0CWjVCQCId0WyU7TuHeyxeNel12g7AJ17SHaZkWKUJiNIvHwOUkza7kzilKXTkvhuekGZWDavPpJeBWhybTrJ3Vnq/Edwkp9JvumstTBeQXVjPCN70Eiez7dutkukp26+Y5vMwBqIp3kwRagZm0kViQNpUg8Gp1k9Wsp/RNr39LURWuQggGwCUfdkGgedqh8i4h5n7Bf+kf0mbQOBkBM4DqtXwbmWliD0h+7sWjUrT22ui6Sneqca6mTDt+9EluAbAG69hBtsyJFKMxGkXg0OEnr+O1aF60qIRhU8N3MPkGgtO/WmZaj2W9nY6h/ZcUc47b+kP74vlo6FemrtRJNQJ1o0/e0uMzL7M7MD7WA5F7bpoWgZa8RvRRv82cDmUqvHvR16w/vElZ/s+tGLPpdxGoeEAARNOPfGK1zAUeb36Sye8uGDLg8pZ5Hm7cG3dofausi2Wks60pkAFQ4pJM82ALUrI3EiqShFImHdpLup8L83Woi1RbiYFXzZhqiKLg5X1nBNzht0FEOfnqNFYKoG4TcQGZbMnDw9hiNGO2f+owPsePca1dsWibf9QCHoIJ8maBj8xRdI9Zyc9OPBZ3oFO9+sLLXdPI7fVCq/GpBLK3s7rVNkHNvCnQ+42XRuo1yGm0UyU6jTHs2Ounw3cuxBcgWoGsP0TYrUoTCbBSJh3KScLa2hVRbmyDmFi/mkCOnGwsANsCYVpjburPBRrUw6448Sq9KUgbG99eDRZQPJ5hgX9QirbcMTdBNuIZJxnRpIgy5rTEbrOr5wbHIk/2STHXty5P+4kw16Ot03NajO0ehvRHwlj2pbKYQ7s1I/fun5ic+A7QYzDoUvHBQkeqtKlxM6OQNAVuAMdg0nEYgRapIbgCMWk62SLFgV92tnW50jgme9cAQ7XeCkHLwzn4ThNJaQTY/Zh0LftjnzWc1MNrWZzXQ2QDXGCxM0m5QjFqeurw4DuWop2vOjP2z5/gDoOLg5B37oxar3W/XsStURZ2+SpcBUBFjAFQ4zDy0ek+j5PNjbZkQd+HChYI/KCXpL4sJcZkPzb+MPOoT4lqnrSuCG8gi5+y0SvCMzbYSjQO3LUjb9Vg71gQMOHNnfz2I1B25ceLRM8B6wLL5UNcw16oG3fj+ePerKZWTb7fVVW/duderbUdB0eVSZ2XzZYKwLXv0XK9eLpwdtQBVPvCMsF6Gfk/ZvWVDgi5PN/1aVnFz08kJcctYX5L8NfaXgQdbgK4fqG377hTcw2AcaUsnm+zudZkPl0Z1WhW3Bah/7YSE1lu9lei7ggmAtpvUd0BW+1QLNZuLjrTsUUBF9mLBELtCumW91XoljzAPBkDNyEg0HA2lSDxCTlKXrA2Sx1G7qY40CLjntntbBZh2J+5Jb0RlVwHaf2MR0m2R7NSDK9rFG+gIhdnoJA8GQM3aSKxIGkqReIScpC4ZpSIRCOm2SHaaxr2TDt+9LnuQOArUtYdomxUpQmE2isQj5CR1ySgViUBIt0Wy0zTuDICaTid5sAWoWRuJFUlDKRKPkJPUJaNUJAIh3RbJTtO4d9Lhu9dlC5AtQNceom1WpAiF2SgSj5CT1CWjVCQCId0WyU7TuDMAajqd5MEWoGZtJFYkDaVIPEJOUpeMUpEIhHRbJDtN495Jh+9ely1AkQpgY94nC923xvsgvv123/DwsODPyr710NBQ6u84h/lYpBiRx8h5YM64m266ya3n3O4RAgiA119/vaojrq9hfRl5fXH5xbfL4NcZABdpo2EgLjYPGwDtS7xcVz9S0QscGADrdZMNijoL+OxWebAL1HN3zK4UDaVIPOAkv/71r7f897WvfS147le/+tXUY5pJI5THZtL4yle+IosvvnhiXppJox35yJJHWuu+SHaqa5iWbEtM79VSqPsSR5OHZubjwQCoGRnJB8o9LGR8NGCXlkRdVnqvlkJMcTT1opk988wzsvHGG+udjhRiSjt1YAntVNMoBw8GwLjW6WgbiDDwaCR54cEAmE+95MU+mI+wfTAAakZGouFoKOSRTx4MgPnUC+tLcfTCAKh1ZSQasIZCHvnkwQCYT72wvhRHLwyAWldGogFrKOSRTx4MgPnUC+tLcfTCAKh1ZSQasIZCHvnkwQCYT72wvhRHL22ZEBfvYOAPo86S/rKYEJf50PzJo7d5PPnkkzJ27NiW6xzto7ftY+7cuYm2AT8d8sllsA+2APXNipF4B6ehkEc+ebAFmE+9sL4URy8MgFpXRqIBayjkkU8eDID51AvrS3H0wgCodWUkGrCGQh755MEAmE+9sL4URy8MgFpXRqIBayjkkU8eDID51AvrS3H0wgCodWUkGrCGQh755MEAmE+9sL4URy8MgFpXRqIBayjkkU8eDID51AvrS3H0wgCodWUkGrCGQh755MEAmE+9sL4URy8MgFpXRqIBayjkkU8eDID51AvrS3H0Upk/f77MmjVLsE76wwuVSb9hP2Zixl/aMaE0cC7zoXVAHuSRVqceffRR2XDDDRPrXajOsd5q+yKP8vFgC1DfrBiJd3AaCnnkkwdbgPnUC+tLcfTCAKh1ZSQasIZCHvnkwQCYT72wvhRHLwyAWldGogFrKOSRTx4MgPnUC+tLcfTCAKh1ZSQasIZCHvnkwQCYT72wvhRHLwyAWldGogFrKOSRTx4MgPnUC+tLcfTCAKh1ZSQasIZCHvnkwQCYT72wvhRHLwyAWldGogFrKOSRTx4MgPnUC+tLcfTSlglxFy5cKPhLmgy3mckXccxoJ3BkPvQEn+TR2zxGOyEu7aO37YP+VOvXx4MtQH2zYiTewWko5JFPHmwB5lMvrC/F0QsDoNaVkWjAGgp55JMHA2A+9cL6Uhy9MABqXRmJBqyhkEc+eTAA5lMvrC/F0QsDoNaVkWjAGgp55JMHA2A+9cL6Uhy9MABqXRmJBqyhkEc+eTAA5lMvrC/F0QsDoNaVkWjAGgp55JMHA2A+9cL6Uhy9MABqXRmJBqyhkEc+eTAA5lMvrC/F0Utl0aJFZi4/rJP+8L5Q0m/YPzw8bP7SjhkaGkpNA+diPq60NJgPrSPyKDePp59+WsaNG5dYZ2gf5bYP+lOtfx8PBkBP4PeBcgMzHYs2LPLoDg8GQM2d9ZY8XD8d3/bZB7tAdWvdSOzC0FDII5882AWaT72wvhRHLwyAWldGogFrKOSRLx7XXnutfPTRR+IGwDlz5sirr76qMorPC6Yt9g457ZhQGjiX9qEJkkdxeDAAal0ZiQasoZBHfnh88MEH8rnPfU6++tWvyhFHHCHrr7++nHzyyfKJT3xC1lprLZXRUPBiAFS4omepeq+WQkxxNOuLZpZnHgyAWldGyrPC3OyGKiMdnEtLesbB/eIXv5BPfepT8uUvf1k++9nPSqVSkf/8z/8UPBN0F9qHS0PMx/r1Hi2xvpSPBwOg1rmRGAA1FPLIFw+0Av/rv/7LBD4EP/ztt99+OpNChx8HwhsCTYQ8RBgAtU0YiQ5fQyGP/PFAK3CxxRYzwQ/BMN76Q47p4LTeyIM8NAEGwDgPI9PhayzkkT8eaAUuscQSia0/5JgOX+uNPMhDExBpy4S4eMkdfzCwpL+///3vib/Zc3wTFtrfsA6lwXxo/uTR2zxOP/10+cxnPiN/+tOfvHWL9UXrnzzIw40n2GYXaPyWgKO4GoiwBaiR5IUHuj2nTJmiM+dIqOBpCwd9aDrkUT4eDIBa50bKi4NjPrRyyKPOA62ZLbfc0rz6MHHixPoPzhYDoAODXcIaBnkYHgyADWbB93jiSBh4NJFu80Dw22677eS8886TDz/8UPbZZx/xBUEGQK038iAPTYCDYOI8jNxtB2czxXxYEtU1eYh5Dm6Dn6WTFATp8C2h6po8yEMTYACM8zAyHa3GQh754OG2/HSOxNsSpMPXlMiDPDQBBsA4DyPT4Wss5NF9HmnBz+Yu3hKkw7dkqmvyIA9NgAEwzsPIdPgaC3l0l0czwc/m0A2CdPiWSnVNHuShCTAAxnkYmQ5fYyGP7vEYSfCzubRB8MQTT7S7vGsO+9dYyKN8PCrz58+XWbNmCdZJf3hBPek37MdEg/hLOyaUBs5lPrQOyKPcPGbMmCFbbbWVGe2pXVNYQhDca6+95Nhjj02sl6y32r7Io3w8+BqEx5ewxaOhkEf2POCM46M9dS7Ckm0J+l6RwNls8WiG5FE+HgyAWudGosPXUMgjWx7o9uzr62up5adz6h8dao+hw7ckqmvyKB8PBkCtcyPR4Wso5JEdj1ae+encNUpJLUE6fM2KPMrHgwFQ69xIdPgaCnlkw6MTwc/m3BcE6fAtneqaPMrHgwFQ69xIdPgaCnl0nkcng5/NfTwI0uFbMtU1eZSPBwOg1rmR6PA1FPLoLI8sgp8tgRsE6fAtleqaPMrHgwFQ69xIdPgaCnl0jkeWwc+WwgbBk08+2YwEtft969DL4ziH9qHJkUdxeLRlQtyFCxcK/lBZkv5Q0ZN+s/tHOyEu86H5k0e+eeBVh3aN9tQuJywhCO69995ywgknpNZL1lttQ+TRWzzYAvT4Ct7BaSjk0X4er7322qjf89O5GrlkW4JJ7wkiRdychhbahyZEHsXhwQCodWUkGrCGQh7t5YHgt+2227blPT+ds5FLoSDIAKiZkkdv8WAA1Po0Eh2+hkIe7eOBLrS8BD9bqrQgWFiHP71fKuMHZJ4tJFqz955U2zdPBsZXpFLRfxMfXGSeiQ5OdPf3ycDceiKF5VEvQrQVKksZBgUxAEbmUN+gw6+zwBZ5tIcHgt9oP2+mc9I+KSkIhpxkru1jer/0TbMhcFBO6ruiFhARAPtlMIbPOPwHJ0plovPL3AHpcwJpoXnEyhsqCwNgDRhBacshD/LQBLTks488Bz+be18Q9JXFHm/Xeb5BGpxYbcFhfcVM+zwzJQDOmaICni2jXRedhy0H1qGyMADWaBGUazY0HE2DPEI8ihD8bBniQTBU93FengOgyKD0VyqmJVgvi68LtF8eWFTtAhW0+qLuUXaBWtvwretMfb9W9+XZPtgF6tFbnhXmZjdkfGW4g8s7jyIFP8vSDYIhG8M5ea8vthVYL0tKC3DRIouhtkYArXeX1tOIHeaIeedhsxoqSxn8RwWFxPtItrC+Nd4n8+23+4aHhwV/Vvath4aGUn/HOcxH9Q7U8iOPYvPI02hP6/SaXdsgePzxxxe+3j5w8jYyZc4i865ytW7NlSnbTYxafLa+wYe9eNVWss3UuU6Z9bH0Y7pOFp0HA2Ct28NWAqwZeLSRk8fIeRQ5+NkgiSCIl+XtF2PcOuJu590+/AHQHelZ3d7qqhfNjfwDJ+vf7OhQlLnoDt/VGxs2i4RdoLa2O2t2YTgwCtDFZXObly4dBIS8jva0rJpd25Zg2svyrC+aJnkUhwcDoNaVkXrSgPFelPMsAwXF+04n3WtHxlUHC0TvRjlDv3uSh0fv2BUKojgmjQee+XXr82YJRRr17lAQTOPRDFPbKknL6Gj1wnw00g0xLYNeGAAb7SLVwRW2IuGdqPF96h2negCsBr/+6XUY86b1RS8S08HVuWAriUcRB7zokiVLaUEwiYdNjY7WkqiuySM/PBgAtS6M1JMVuvZSMIKeDXRRAFQvDNeB2GN7kke9mGor5JxwsI9HLwc/CygpCPp42HOwDjEtQ0uDPFwCerub9sEAqHVhpJ6s0FGQqw/rtgEQrT0bFF0cdn9P8nAL6myHKiMOjfMoQ/CziHxBMM7DHmvXIaYMgJZUdU0e2fFgANSsjdSTFToKgCKC54ETB+vPAN3fHB5sATownE3XPsoU/CyCeBB0edhj3DUDoEuDLWJNo7s8GADj2vDc4ccPKWSFjgU5BDcMeKkOguEzQKvjkG5xnHX4rQY/83zV/d4kEnW/PuIMQLL5amptBjq5Q/idr5gkpG/yYr96MoLrukHQ8kjKY4gpWzyaHHlkx6MtE+Li3Rj8wdCT/uAskn6z+0c7IS7zofkrHveeJFtdOcfRwR/kpEpFJvzW6qUqR6NA+66QOTV9Ui+aK3jgVYfWRntWu6D7a9+orFZ1/WUS2/Ws3UATUuwmx7b0RRLSj33oGTdF9Y9Hh6+HIIj3BI866ijHrjQr1O1Q3Vd2muBDQmngOrRTzZ48wjzYAvTUc97RaijkUecxZ84cueCCC2S11VZrbT4/G6TsGkkjEE0cqE/R42mJqZZarcXW8NzWTRPpTu+vPtttIn0cbru866UNbyEI7rzzzrL11lvL7373OxPs4mchOKUtbPFoOuSRHQ8GQM3aSHT4GkqZeTzxxBNyxRVXyKGHHirrrbeebLjhhrLffvuZAJj2crgmaCW0xGy3pNMqqEM+eQAAIABJREFUM92Tdr8Igt1IWmI2ddPis92ZtbVJJ5h+Yxd4lGZgAy2zbbbZxrz4j9bgqquuKptvvrmccMIJctNNN8ns2bNN6zAtGTp8TYc8suPBAKhZG6nMDt+DI3rm5fsN+3rlDn/BggVy1113yc9+9jPZfffdZcUVVzTO/ZRTTpHbb7/ddLGhvLAP9xlYEpeG/SYQuc/oaq+kmBaaMwddbZCSe35LLUAzE0K/DAbSbzXgIvjhizf9/f1uVuXpp5+WqVOnyhFHHCEbbbSRrL322vL9739fJk+eLI8//rh89NFH6ng6fIUj+g6p3qulUJ3D0fRjmpmPBwOgZmQkHyj3sJDxsUK7tCS3FRrdmbfccouceOKJssUWW8jKK68su+22m+navP/++83Hk3VJqpK1j5EGwYYuRgQm093ptgyrXZGttgD1eYPS3870HRg2+J133nlBRztr1iz55S9/KT/+8Y/Nc9Pll19edt11Vzn77LNNtym+m4o6k7aE6hzOtXpJSieUBuutJlcGHgyAWudGYkXSUHqFx2OPPSaXXXaZ6s48/PDDZcqUKfLkk0+aQoecJA5yeTQfBOvvX7p0o6Dotg49zwDdcxK3WxgFasozwi5XN/iZ8+fZWdf9OYszfeedd+TBBx80z1LRbbrKKqvIpptuKph5wnabxlOKpxH/vZV8xNMog8N3yxxiWgYeDICuRdS2XQfn+blnuvxQtlAlwDFF5IHuzD/84Q+mOxOtOnRnbrXVVnLSSSep7sy4flvh0XwQjF+teHI8+LXLPv7yl7+obtNvfvObUbfpn/70J0HQDC1FtFNfmcoQeNxyh+pcJ3kwALqaqG2zImkoReCB7sxrr71WdWfutddecv7554vtzuxkRSpDEPQFP1hKJ+zjlVdeUd2myy23nOk2PeussxJHm3YiH7om9O4NY7yckDtZX9zrMQDWaNCAXbPojGPRVyhuhcbozMsvv1x1Zx5yyCGmO/Opp56KF9PIna7QvRwEk4IfwGZRb994442o23SfffYxo00322wz1W2aRT5CzjorHsyHruKt8qjMnz9f8JAa66Q/vFCZ9Bv246Vg/KUdE0oD5zIfWgfkUeXx/PPPy8033yw/+tGPZPz48TJmzBjzzOjoo482AQ8jC2E/IRvLwk7/9re/yS677CIYOdorC4IfXvrHaE9fHe+Wnd53331y0UUXyQEHHCDrrruueTUFzxTPOeccufvuu01gdvObB/vIi50yH1Xfwi5Qj5finaSGkjUPdGci4LmjM9GdCQdsuzN1DqtS6C6w0y1Am6e3335b0EoZ+XuCNoX8rNNafjaXWduHvW58jV4B32hT222KG6C0JSv7yIudMh/CGeF9FSIvFbos+YDjmjRpkqALEy+bf+tb3xI7OtPtziwSj17oDkXw23bbbYNfvMmrXtzRprghwWsubrfpCy+8oKo/A6DCwWeAFgfvFCyJ6po8Wufx1ltvqdGZK6ywgnnZHF8OcV8211eoSnl1tPG8WvsochC0LT+0nkJLkfSCl/Svvvrq6CV9d7TpI488Iu+//35qca1u0w4qEo+0cpThhoBdoB4LoAFrKKPhge7MG2+80QxWsC+b29GZDzzwQPSyea86liIGQRv88JJ7r+rFWji6RW23KT7pFhpt2us8LBesGQBrNEJKLwMo1zDIw6WhR5La0Zlud+YPfvADufLKK8XtztQp6DTiv1l5NIEYaXTLTosUBN3gB2YhW8cxRdWLtSu7hn384x//SB1t+swzz9jDE9e9xANM0pai2wdbgB7t0oA1lCQe6M78/e9/L2eccYb5hJjtzsTgD7c7s1uBR5eiewEQ+ShCEIwHP+S76A7OtYFQWZLs9K9//WvUbYqPodtuU3xVCC/px79tmlRfbF5azYc9n3pxSVS3Q0xxlE8vDICNLL2g3MNCsJMq0kjSSFLYSNJodz7iozPxCSt0Z+Kbjm53pptHbLc7H/H0rZx3veQ5CPqCH7iGmOIYn2OxOmkmjaLZh9ttikFC+LYpXn2xo02fffZZt/gN2yGmRePRUMDYjjzbR1smxF24cKF5lgPFJv2hgiX9ZvfjPR277VuH0mA+NP/R8pg+fbpccsklJsits846ssEGG5gXz/FV/0cffTTSFfWiuafxwCsSe+65Z65ekUB+4cjhwOP1Lq0s9tiy11u8pI+5EDGLyB577GE+u/ed73xHjjnmGJk2bZqgBWlZYR1iOtp6a69Vdr1YDnbt48EWYOxuBWKe71jc7EKxactI7iRtdyYqMb6d6XZn4mPRMJ6kpZ35SLoG9veKXt577z0zk3oe3hOEM8aURhjw4ltCuu0lvYykvvhY2X2wU7fbFFNCud2mg4ODDd2m9lys25kPN934dki3ZcgHA2DcKnrI0aYZsO3OPO6448xUQLY7E9/OjHdn9krgSeNhzSDkFHBcO3ggCHb7ZflQ8ENZs+IB3aQtRc+H22269dZbm9Gmbrfpm2++GRU/T3ba63phAIzMrr7RDgeXN8PB58Lw7UyMzsRno/Cy+Q9/+EMzSWna6ExQ6UUedW3rrSwdbTefCdrgh8+GpS1Z8ihTPvCS/kMPPSQXXnihuRFaddVVo5f0r7/+esHn/9IW6kXTaZUHA6DmaKSiO3zbnXnmmWeah/Nud+Ydd9yhujNbNRwXWygN3tG6tHQXVzeCoBv88najpknVpZCN4cii11vbbYobU9ttevDBB5s5LDHaFLZilzLwsGXtpP9gALSUnXW3K9JVV11lctNsPmx3Jr6msvnmm5sJRvFR4HPPPVfuvfdewcCLpIUVSZPpBo8sg6ANfnjm10nH4lINMWU+XFr1GyTbbYpv4GKQEl7St92md955p7jdpjqFqhT3H7/5zW/UYdQLvwWqDMIKccOx++26k4aDLpGPf/zjZvRlUj5sd+aBBx6oujMxWMXtzqRjsRqrrvPMI4sg6AY/EMkzD605PosED7fbFCOJV1tttajbFF9bin/b1PUf+MrN5z73OfPermXbST9mr4G1mw93v93uZj7YArRacNbdUhgC2pe+9CX5/Oc/b75IgXzY7ky8axcfnQmjTxudSQfnKLUADr+TQTAe/ECG9lEs+3Bza4OG7TY98sgj5dvf/rYZbWq7TdHis92m+DDFJz/5SVliiSXMe7tIy6bhputul8E+Kigkmtq2sL413kvx7bf7hoeHBX9W9q2HhoZSf8c5Zc3Hyy+/bIy3UqkI/v7nf/5HJkyYIOPGjTNfsMfdnu3OXLBgQcSRelkUsYD99AKPTrwiYYMfBry4dZP1VttPL/CAL0Gwwys2mPkC3aY777yz8Sef+cxnjH9BSxDPGXuhvlh7bjW+lDIAIoik/c2cOTP1d0wmmXY+XozFX9oxNg18iHfZZZc1hmkD4Cc+8QnBAJZf/epXTaWRdJ2R5CMpDexvloc1xvi6FxyLW6ZO36ghCOKF6na8J5gU/FAe6qV7ATCtvrWz3qIXCS1BvHKDRyvWxyy22GKy8cYbyyuvvJLoY9qZj7TyWl+YdMxI8uHW0/i2r96WsgsUxoBWFt598/2ttNJK3v32WMwrZrdbXds0vv71r8u//uu/yr/8y7+YP2uguFvLMh9p5WgmH1/96ldNwHa7UOy2NUQr+9ah7hic062u6Xh+s8hHOybVtcEv6SV36kVrNkseIR+UVh/xm/UfacfZejtmzBjjY6xv+bd/+zcjw++knd/MbyPJR1J6zaSRdK7djzTSfFCS/yhdAHz99ddl6aWXTh0ZqatFNtKMGTNkYGBAtt9+exP40F+Prs8iLHDWaUyzdCxpvIqWj9E8E0TwC01mWzQeabrFb1ncmLTjRi1LH4RWFV6D+tSnPmWCHSaaRs8SWl29tIR8UJJ9lC4AXnfddYKHxHlf8GpDaJhzXspwyy23pDKlo9WaGgmPVoKgbfmFJrMdST50CbRUlMATCl5Z8cjaB91zzz1mMJ3WWm9JIR+E0vrstHQB8IADDhDA4tI+AgcddFAq06wcS14cXLvzMZIgaINfM5PZUi+6DmTFgz5Ic2+HFPJBuEbpAyCayUsttVTuuj/bYQDdSqMZplk5lnYHniSmvorkHtuJfDQTBN3gh/x0Ih9uOe12N3jYa7vrIuSjmfrilonbYQLNMvXZR6lagGj54U6BS/sIgCnuaNMWBkBNp1UeaUEwHvxwRQZAzT0PPOiDtE7aITXjg3Cd0gdAPPsDLC7tIwCmeKaRtrTq8ONp+gzYPSYPDg756WQ+fEHQF/w6nQ+XO/Xi0vA7WnsEfZAl0b51Mz4IV/PZaVsmxMVLiPhDxU/6QyVN+s3u901YaH/DOpRGWj4w8ordn+0zOqRkux7wLpGrp/h2ml7ssSHd4rhO2keR8gHue+21l5xyyimmTrQ6mS31ov1Vp3nQB7XX/4zEByX5j9J0gaLlhzsFLu0jYJnCuNIWtgA1nXbwQEsQr8wsv/zyLU9m2458oGS+O2u3xLSPKg1bX1w23B4dAcs0ZGO4is9OSxMA2fUwOkPznW2ZhoyPjlbTaxcPfNniiSee0Ik7EvXiwOhw17R7JZ+jxe+2vrjHcnt0BCzTkK3jKj69lCIAosso7UXt0amgnGe7TEPG1y6H7zNglz7z4dLo7LNI90rUi0vD72jd+qKPptQqAZdpqO7jGj47LUUAtM3kVkHzvEYCLtOQ8TEAan7kUT4ebn3RpafUKgGXacgH4RqlDYC2mdwqaJ7XSMBlGjI+OnzNjzzKx8OtL7r0lFol4DIN+SBco5QB0G0mtwqa52kCcaYh46PD1/zIo1w84vVFl55SKwTiTEM+CNcoZQB0m8mtgOY5jQTiTEPGR4evGZJHuXjE64suPaVWCMSZhnwQrlHKAOg2k1sBzXMaCcSZhoyPDl8zJI9y8YjXF116Sq0QiDMN+SBcwxsAMS3GrFmzzPQY2Pb94QVk3367D8Ox8Wdl3zqUBs5pdz5mz54tSy65JL/92YqFJZyDrgcwBVur55Bu82ofNv/uOlSWTtipe327zXxoX1RUHvRBCY5kFLtb8UFJ9banR4HGm8mjYM5TawR8TEN3X2zxaPMhj/Lw8NUXXXpKIyXgYxryQbiGtwWY9IObqVDiea3Q8WayWyZut0bAx7So9uEjECoLzvFVJDetUBp5rS9uGex2qCzkYUnV1659+OpL/UhutULAx7RVO+3ZFmB8lFAroHmOJpDENGR8dPiaI3mUg0dSfdGlpzQSAklMQz4I13BvTOw1ezYA+prJttBct0YgiWnI+OjwNW/yKAePpPqiS09pJASSmIZ8EK5RqgDoayaPBDSPbSSQxDRkfHT4miV5lINHUn3Rpac0EgJJTEM+CNcoTQBMaiaPBDSP1QTSmIaMjw5fsySP3ueRVl906Sk1SyCNacgH4RqlCYBJzeQG0NP7pVKpqL++afPMYYMT9X4c1z/dpjAo/eMHxBxp0uiXQfuTiOBcHDtvWp9Ku3qtPhmY6xws82RgfPxa9fRMGhPd1EVker/YfLopYb9bnvoxvmu45VGpeIU0piHjo8PXSMmj93mk1Rdd+poUq7uox7b+jt4X+et/xfqwWhbS/FVqHjz+yPpA8fq3kfkeyyuNacgHIQ1vAMSJeMcG66S/0GSlCxcuFPwlnY/9oTRwTLvyccABBzQ383uD4galv1INPoMTY4Fq7oD0RQajA2Df+D6pOEGqrnyrOud4uytawzjrAS/abTaq+emP56Uh3zi4nvdqGkjXliHtGvqKSdJBBx1kZn736Tik27zZh68Mdl+oLO20U3tN35r50P6oaDya9kG2wjXU6Xp9bqsvariOzYC7bvRXqXnwpFn3gaP3PTZno/FBSfW25wbBLFiwoPmpjxoU16LRTZsXtfqgrLryreoaDcr+Ur1DSgiANn92bU+Ky2a/G/DsgXY9OiNM63rAFWBcaQtbPJoOefQ2jxdeeKF5H2RRNNTpDvmihuvYDLjrRn/V7QA4Wh+E0nlbgEk/uDiK5OBuvPHG5md+93Q72G5OBDG3O7FSsa0pkHEMJDIo12DjTXzneBes2UZw0teq5sENaLEAFl0znphOy3ah+LshEoJuPEkR05rGw+ekpUj2geCTtoTKgnN9FclNM5QGA6BLS6TXeFxxxRXN+yCLIitflOg7bEawbvRXqf7Qk2a9EaB9UtWnNu97bK7Suj9xTKjO4Rhfve25FuCBBx7YXPcniHgUZ4G7dzzoG68HExzhGIibBox44mB7WoDoco09n7TBOS3fNv8ml7VnkamtTPeEhO0Q05Dx9ZqD81UkFx15uDTCzqnX7GPvvfdu3gdZVK4fsftq67b6opTr1C/r+Ldm8uBJUwfAkQe8el6qW+j+RBBMWkJ1Duf56m1PBcARdX+CiEdxFrBrdNhXV6iR1CAYNzjaO6UoWJkEGw3KXicpOOnriYj7DNKXb/f3WuII3PXWZGtGiK6H0PdUQ8bXaw7OV5Hq+iyfwyePuvabqS/1o50tX52u/dxWX5RynXpuGv1Vah7MzbrrX+q9YUn+rX6t8Fao+xMphHwQjvHZaU8FQHR/4k6h6SXFGOIKrw4ysd2gjoE0pAHlj7QL1DUe5N41oHppoqDY0F1Sy1d8fzQwx9cNUR9lVr9C4xbuunBHm7aEjI8BUNMjj97lgfqCHpMRLw1+pJ5CW31RynWcK9Zv8Gs70/PQOOK93gBo3ffY/DTDNOSDkFbPB8BQV50FynXzBPDsD8800paQ8dHha3rk0bs8kl7U1iWmNBICaNSgcZO2hHwQzu3pANhMMzkNIH9rJGCZYlRb2hIyPjp8TY88epOHrS9Yc2kPAcsUj7fSlpAPwrneAIjKiPnabKX0rfEel2+/3Tc8PCz4s7JvPTQ0lPo7zhlNPkbc/ZlGk78ZArbrYTR6gV7zYB/Mx6KG+ke9aCaj5UEf1H7HCR+Edyo7FV8qow08eXEs7P5sv/HZrgcGQO0oyYM84Pfif/RBnfFB119/fecCILLsaxq6RQk1L60huOfEt0NpjCYftpnMroc49dZll2nR7cNS6LadMh+WgF73gl7c+qJLR6lVApYpuj9hI2lLq/GlJ0aBopmc9qJ2Gjj+5ifgMmUA1IzIgzw0gfDHIuLHUw4TsD6okzdIPREAOfIqbEwjPcJlSoev6ZEHeWgCYm7A4bC5tI+A9UEMgDWmvmaubSZjzaU9BOJM6fA1V/IgD5dAvL64v3G7NQIuUwbAGkNfALTN5NYw8ywfgThTOnxNiTzIwyUQry/ub9xujYDLlAGwxtAXAG0zuTXMPMtHIM6UDl9TIg/ycAnE64v7G7dbI+AyZQCsMYwHQLeZ3BpmnhUn4GNKh68pkQd5WAK++mJ/47o1AnGmHQ2ACCqjnYgWL7njD2kl/XViQsvrrrtuZN/+bE0fpToLXQ948dTVY1Htwy0Dtrtlp8zH35U99RIP+qD2u8e4D+pkvS30KFC3mdx+NZQzRR9Ttni0LZAHeVgCvvpif+O6NQJxph1tASKLRazQ8WZya6h5lksgiWkR7cMtl93uZEWy18AaLZy0hfnQdIrKI6m+6NJRGgkBH9NO2kdhW4DuKKGRAOaxyQSSmDIAambkQR4gkFRfNB1KIyHgY8oAWCPo3lnHm8kjgcxj/QSSmNLha17kQR4gkFRfNB1KIyHgY8oAWCNoA6CvmTwSyDy2kUAaUzp8zYs8yCOtvmg6lJolkMSUAbBG0AZAXzO5Wcg8zk8gjSkdvmZGHuSRVl80HUrNEkhiygBYI2gDoK+Z3CxkHucnkMaUDl8zIw/ySKsvmg6lZgkkMWUArBFEAExqJjcLmcc1EggxpcPXzMij3DxC9UXTodQMgTSmHQ2A8+fPl1mzZgnWSX94ETrpN+zHBKH4SzsmlAbObSYfl1xyiey7774mEAIa/0bP4JprrpF99tknUX/N6CVN91naB/NRr8ehOke91FnBbprlQR80ep8T99tpPqhZvaTVffzm82OFew3i8ssvl//+7/+WVVZZpaW/lVdeOXjeSiutlHpMM2mE8oc0xowZI5/97GcTy5NVPlZddVUzpDvpTo0tHk2GPMrNI+SDsqq3IR8TysfXvvY1+fSnP53q60LXaMYXhvKBNNJ8UEdbgDBlVujuVejf/va3sscee8h3vvMdmTp1qnz44YdRZqiXCIXZIA/y0AS0RPtojgd8zrbbbiu77767PPzww/okR+pk4HEu09UPRxSuBeiCi28XWWEwxMMOO0zWXnttueCCCwTfTmWF1homD/LQBLRE+0jn8eijj5rHR1tvvbXcddddXQ08bk7t4EZ3n7vdSb/OAOiSrm13syI999xzcuKJJ5ru0WOOOUZmz57tyWF1VzcNx80U8+HS4KfQNA3y6DaPF154QY466ijZYIMNBM/a7MJ6K8IAaK3BWXczANps4KHtySefLKuttpoceeSR8sQTT9ifojUNOEJhNsiDPDQBLZXNPp599lk59dRT5X//93/loosuUo9XQKZsPHx+nQFQ1xEj+UC5h2VpOO+++65MnjxZNtpoI9lvv/3kD3/4Q5SVLPMRXdSzwXxoKORBHpqAlrKwD4xUXWGFFaS/v1/eeOMNnYGalEU+cKk8+dM4CAbAOJEcK+ymm26Svr4+GT9+vNx66628g4vpjhVaAyGP8vHA/ITf+ta35IgjjpDBwUENICbRPkQqgDDaCU8XLlwo+ENaSX+dmBA3fq2y5OPOO+80I7hg6L/4xS8SJyMuCw9rByEbIw9dP8mjd3jccccdgsEtGNl5//33Gz9Mv6716+PBFmDsrghinpvsbnYffPBBOfzww2XNNdeU8847r6Gro5Ojp9x8IAClLcyHpkMe5KEJaGkk9hEf2emmVBQ/1k3/wQDoWkxtu2iGM3PmTDNgZplllpGJEyeaLx6gKCOpSB4M0a6i8YgyHtsgDw2EPIrL469//at3ZKdbItZbl4a/YcMAqBkZqaiG8/rrr8u5554ra6yxhvzwhz+URx55xARBTxGjXaG7LxxYVB5RIWsbdPiaCHkUjwe6+TGyEwNcfCM73RKx3ro0/H6MAVAzMlLRDef999+XK664QsaOHSt77bWX/O53v/OUsrqLAVCjIQ/y0AS01E37wMhOfDYMIztfeeUVnTGPVHQ/ZovUyRs1BkBL2Vn3kuHceOONst1225lPH918881OKaub3azQbmaYD5dG+B0tHN1Ldgonl7aU2T7ckZ143IGlzDx8dtIqDwZAD81edCy///3vzWeQ0CrEx3zfe+89ViSP7lutSG5SoTQ6eUfLfLgE9HbR9GK/2bn33ns3fLMzVBaUvBf9mNZoXWqVBwNgnWG01cuG8/jjj5t3hFZffXU555xz5KWXXorKnbTRyzziZW61IrnphNJgAHRpcbCWpiHyxz/+URD07Dc7479DDtkYjmG91eR8PCqojJhvyVZK3xrvC/n2233Dw8OCPyv71kNDQ6m/4xzmY5Fi1Ekezz//vJxyyimy9NJLywknnCD4bJJPb9SL1gl5kEdSPbH7W623+A4wXmBfb731ZMqUKYn1EdehP9V22CoPBsBFGmTZHBxagBg5+o1vfEMOPfRQmT59ekPFa7VCW4fAGyRtY+RBHrZuYP3aa6+ZgS0rrriimQnmnXfeYYPC8cudrC/sAtWtZCP5msruYaHuB2vc7jnx7VAaOD7LfHzwwQfmrnOTTTaRPffcU+6+++4oy1nmI7qoZ6MM+ViwYIHg5Wa0AM444ww55JBDzCAmfMkfDhIt9qWWWsr8LbnkktG23YffMbnouHHjZKeddjLvip1//vly++23C94dg57tUkQ7tXn3rYtoH+7ITvvNTupFa7eTPBgANWsjFbEieYoRteR8v9l9vkB82223yfbbby/bbLONYBRp2XlYVnbdLh6Y8QOs0QW9+eabm+CG4IXANWHCBPOZu1//+tfy5z//Wf72t78JPozezIJHFi+++KIZOHHLLbcIAiC+GLTFFluYa+Adsl122UV++tOfCgZH2QFRvrR99hE/rl084um6cq/lwzey05a3kw7fXgPrENMy5IMB0LWI2jYrdBXEfffdJ/vvv79885vflMsuu8x0y3hwsSLFoCQ5lrffflvwKspBBx1kXmRGtzMmQb766qvlmWeeiaXSORFdSujqxovUe+yxh+ALQmhhYvqtBx54QF04qSzuQawvLo30nhuM7MTgFt/ITptKGQKPLSvWIRvrJA8GQFcTtW1WaA3lnnvuMV1paJ2cffbZDS3Cbhqwm9M85gNf57n00ktls802k2WXXdYEPHy4GK20PC1oMeLjCTvvvLMJiPvss4/pNg0xRRlYX7QmfTzcb3aiOzpt6aTDd68b0m0Z8sEA6FpEbdtnwO5hZTWcOXPmyE9+8hNZbrnlTLfdjBkzDJay8nBtwt0GD3QdY+oqTEaK0bboxizS8pvf/EYOOOAA02WK55AYmp+0sL5oMi4P32zsrC+aVzd5MABqXRjJNWDPz11tsrv56ZbhvPXWW3LhhRfKOuusY0aOoqs0bSnDnSTKj2d6+Bg5uhTRzRmajy2NWZ5+u+GGG2TLLbeUddddV6688sqGrLG+aCTgYb/Z6ZuNvVv1Vueyu12Pbl66yYMB0NVEbZsVWkNJ4vHRRx+Z51cYOYp5yNBq8C29HgBnzZol3//+903LGANO8IytFxf7ntqYMWPkZz/7mUD/WJLswzLopoOzecA6q3xg9K79Zqcd2dmNfFAvLnW/nbZlQly8hIg/GFjSX2iyUpznm7DQTS+UBvOh+WfJA7PVY6Z6jGacOnWqsoMs8+HaS3y73fmYPXu2HHzwwbLKKquY1xZ0detd6R//+IcZMINnmngmzHpbrXewewwmwsCxp556StUB1xbpx7Sf6iYPtgA9fop3ThrKSHhgFCGeHcERYPAHXurtxRbgaaedJmgJTZ48WcMqkYQbiuOOO06WX355M7o1qehw/mlL0e0j/s1jUDG6AAARqUlEQVTOkdQXH5ei84iXKc88GADj2mKXTgORVgz4ySeflGOPPdZ0BZ1++uny8ssvN6Tr7gg5SRzbSj7ca7TDsaCbFy+kn3TSSW7Spd7GZ/V22GEH8/6iT88h3bZDL92wj8cee8x8YD7+zc482Gk3eCRVgjzzYAD0aC3PCnOzWwTHAoeIkaN4+Rovdye97xYqSx4qNCYZxvNOBHcujQTwcjdaxZhtxF1Cui1aAPSN7HTLS//h0sjHjSty5NMLA6DWlZF8oNzDeq1Cu2XzbbeDx5tvvikXX3yxGUmIASPxEZIhpshXO/IBZ5u2+PLxxBNPyJprrmk+TZZ2Ln8TwafcdtttN9My+vDDDw0SH1OXVVECIJ5VYZQvRnbClm353LJgu1t2ynzECWjZpxcGQM3ISD5Q7mG9UqFRplBZcEy7eUybNs28GL7rrrsKPvXVrXyYC8f+xXkMDAyY0Z2hVz1iyZRexGjYNdZYw3x/NM40DqcIAdB+sxNfy/GN7HTL1O764qZtt0NMcRzzYWlV1z4eDICakZF8oNzDQsZXhAptyxMqC47rFI9f/epX5puU+EblVVddZbOUuO5UPtwLujww0GXTTTcVtF65jJwAviCELlF8+SZtyXN9iX+z07WPpDJlbafMR+s38gyAHuuhAWsonebx0EMPmaHjmAcNd9pJnwnrdD5QauvgjjrqKPO9Rk2C0kgJYIAMugyvv/76xFPzGADjIztt5q19WNm3ztJOfde3+5gPS6K69vFgANSMjOQD5R4WqgR5rNBu/t3tUFlwbFY8nn76afnRj35kHCZGjuL9MnfJKh8/+MEPzBdu3Gtzu3UCmO9urbXWkmuuucabSJ7qCz75tu+++ybOxp6n+uKF6ezMqr44l/Ru5jkfFXy+CV+ywDrpD44o6Tfsx4Sp+Es7JpQGzmU+tA7KygODTjBFEL45ikl68fwtK/tA8DvwwAO9FZk7WyeAbmR8TB0zX8T9RB78x8MPP2z0vvbaa5teiHgerUw/pn1U0XmwBeip03m+Y3GzG7obzdOdNfKStvjKgq7QSZMmyfrrr2+cU+gr+r403GuGeJx33nlmNgT3HG63j8BLL71kngni/Tl3CekFx4Z0i2NaqbcY2XnqqaeaXocLLrggdW7ETuYjLzzKlg8GQFfjte1WKpKbTDcrdK/m49prr5WNN97YBCgMnvEtISeZpheMRsW8h1w6SwDPe/HlGMyNaJc0vdhjQrrFcSOtt3ZkZ39/vxnZ2a182DLaNfNhSVTXneTBAKhZG2mkFSmeRCcV5l4r5BR6MR933XWXec8MozPxioK7tMoDw9rxXUs7vZObJrfbT+AXv/iF4BUYu2Rtp/GRnd3Kh71ufJ01j/j1rVyGfDAAWm07awZAB0YLd9b6bOnIt0AxozleqEerDS8l4wXsVgMgXtz2TfMTLwfl9hHYc889o++oZuVof/nLX8q2226bOBt7Vvlo1U5d+qE0cCz9mEvMz4MBUDMyEg1HQ8kzD3xa7fjjjzfdaph4Fs+Z4gs+yI0vz/gcHCauxXcsuWRLAM/eMG8iBsf49BLPzWgcvv1mJ943RQ9C0tLpfNjrhsrCfFhS1XUneTAAatZGyrPDd7PLilSn8be//c0MZsDURMccc4z85S9/iX784IMP5JOf/KQceeSRxtlGP4iYwDlz5kx3F7czIoBncIcddljHAmD8m52sL1qx5CHCAKhtwkgMgBpKkXigtYdnTBtuuKF873vfk/vvv98U5nOf+5wstdRSgpGedrnooovk6KOPtiLXXSCw2mqrmQ+k4y4/bQk5a5xr7RStS3zFJ/7NzlAanWxpuGVjPlwa4RG+ndRLWybExXB1/EGxSX8wyqTf7H68U2K3fetQGsyH5l92HnjnDN1emKh38cUXl0qlIp///OcFcxbCvjDwBe93cekegSlTpphXXNrlP/AqAwIfvtn5yiuvKH9C/6H9A3n8ky1AX9W3d5K+37APzjNt6eQdi3td5sOlkawXTND7qU99ygRABEF8nxKDXtBC5NJ9AksvvbQZxJSWk5CtY2QnBkQdccQRktSlHUqD9VZroAw82AWqdW4kBkANpag88AkuTFaKVh8Cn/uHLtEHH3xQF5RSVwhgEBM+eJC2JAWvu+++OxrZaWcWSUonKQ17fBkcvi0r1uTBZ4CuPUTbRXX4UQFqG2Wv0O+++64sscQS5nnguHHj5Lvf/a6ZfWL33Xc3LcI4L8rdIfDnP//ZzLqRdvW4s7YjO93Z2FlvNUHyCPNgC1AzMhINR0PpNR633XabHHLIIbqQlLpKAN2g77//vsrD2LFjzbM87LQBMD6y0z2h1+zULVt82/KI73dl8nBp1AdJuXsZAF0atW0ajobSazww8jNteh5dekpZENhjjz3k3nvvjS6Fz93h1ZWzzz7b7MNrLr6RndEJzihQd5+7HQoaZe8xcVlhuww8GADjWmdFaiDSawEQLYvZs2c3lJM7ukcAM8ife+65JgOvv/66LLnkkuaZLd7pxPuCGNlpv9mZlMtes9OkcmJ/KJjjGPLQBH08GAA1IyP5QLmHhYyvDHdOReaB7rZcL3MHpC82aKdS6ZdBZNr81icDzlSJ86b1Sd+0eXB5MjBeD/apjB8Q/JL35Te/+Y0cdNBBJpt77bVXNGDps5/9rBnZ+dRTTwWLwHqrEZFHmEcFzhrzcVmn7VvjHR3ffrtveHhY8Gdl33poaCj1d5zDfCxSjMijMzwKEQAnmnCnazAkBMDxfdLnBDYdAGuBsnYmfqskpdWYetf24JN2W265pUydOlW+8IUvRAEQo3W32247efLJJ1Xd8PkY1pfO1Bcfa7uv6H6dAXCRNhoG4t7m8eqrr8rqq6/eNUff1IUR5JKCVu23etATqW+jBagDoMig9NvWY1MX785BaK2sscYa5rkfXlf5zGc+I//+7/8un/70p832f/zHfwieA1rH61szAOq6Sx5hHuwC9dR3dh1oKL3EA19+wazfuV5MN2esK9MGxCg4IthVu0LTA6AvKOav9JiSap111pGjjjpKLr/8cpk2bZrcdNNNgsEw99xzj1x22WXBTPeSnSLApy2hxzA4lzw0QR8PBkDNyEg+UO5hIeOzd6fuOfHtUBo4nvnQ1NrBA59/wvcnc71EQc6TS/c3bI8fkEH1DLCYLUC0VvD91qSF9UWTIY/28GAA1ByN1A5Hyzu4Oti83RAU/hmgbQ3iJgnP+CoVZxCMDoDmd+f4ulbytYVBLttss01ipujwNRryaA8PBkDN0UgMgBpKr/EoRABsGAVaG/nptgCr1mpGfiaOAi1A8EMx7rzzTjn00EO14TkSHb4Dg69BaBij4MEA2ICSXY9xJL0WAPFJtOeeey5eTMpdJIAX3jE9VdLCAKjJkEd7eDAAao5G6jWH7ylitKuMFWnChAkyMDAQMeBG9wnstNNOMjiY8OrHKO7w3ZKFbD1vXfVu3uPbobLgePoxTc3HgwFQMzKSD5R7WMj4WJFcWvn7pBJmDdh///11Jil1lUCoWzpU55B51lutQvII82jLhLh4GRJ/MNKkv9DkizhvtBPiMh+aP3n4ebz99tsScri66lDqJIHp06ebaauSfAf2039oWyaP9vBgC9BTs3nnpKH0Io9dd91VMJccl+4TwCS2mBk+bUEQDC29aKdJZSYPTaZVHgyAmqORWJE0lF7kgW7Q3XbbTReUUlcIoDUenwopnpFWHZybTigNPrpwaeXv0YXOnZZCusXRPj/GAKg5GskHyj0sBJsVyaWV34q06qqrCuaX49I9ApjpAdNToc6kLaE6h3NZbzVB8gjzYADUjIxEw9FQepXHVVddFc1AoEtMKSsCyy67rLz88ssMgA5w3kA7MDo8LyEDoGZtpF51+J6iln5esbXWWksef/xxHxru6zCBM888U/BKCh2+Bk0e2fFgANSsjcQAqKH0Mg/MQ4cX47lkS+DFF18UtP7w7I8OX7Mnj+x4MABq1kbqZYcfLy6frYgcfPDBct5558XRUO4ggb6+PrnhhhvMFejwNWjyyI4HA6BmbSQGQA2l13nA4ay44ory8MMP64JT6ggBdH3ipsMudPiWRHVNHtnxqGB+tFmzZgnWSX94QT3pN+zHVCb4SzsmlAbOZT60DsgjOx6Yd27MmDGyYMECXfsotZXAL3/5S8FzV9dX0H9oOyeP7HiwBeip3r3e4nGLzC7QOg28jM3ngXUe7d564oknzE0GbuzchS0el0Z+XxvSuaxKRfcfDIAerTIAaihl4nHaaafJzjvvrAFQGjWB559/3gS/Bx98sCEtBkCNhDyy48EAqFkbqUwOv+h3cK76QmVp1rH8+Mc/ll122cVNmtujIPDss8/KcsstJxhx61ua1YvvXHcf661Lgx8G0DT8PBgA45T4RYkGImV0LKeffrpstdVW8t577zXw4I7mCWCKI7zucM899ySexACo0ZBHdjwYADVrI5XR4XswRLvKyuPSSy+VNddck5PnRpYwso1rr73WtPweeuih1BPp8DUe8siOBwOgZm2ksjp8D4rS80C3HUaH3njjjUl4uN9D4MQTTzQDil599dXg14bo8DVA8siOBwOgZm0kBkANpew88ArPZpttJkceeaQGQ6mBAAa7fOc735Hjjjsu+q1dz2ajBBM2ym6ncSzkoYn4eLRlQtyFCxcK/mDoSX9ZTODIfGj+5NFeHv39/bLKKqukPs/SVa5c0vnnn29ayzfffLPyA6G6Tzttr51aH4wbN7vtW1Mv/xS2AD0+ynen4B4GY0pb2IWh6fQSD3w4e6ONNpIDDzxQXnvtNV3QkkoPPPCAfOtb35LDDjtM3n333QYKrC8aCXnkhwcDoNaFkRgANRTyaOQxefJk09o59dRT5aOPPtIHlERCd+fee+8tG264ofje77MY6PAtieqaPPLDgwFQ68JIdPgaCnn4eXz44Yfyk5/8xAzzP+uss4KzmutUiis999xzZh5FTCh83XXXcSLamCpZXzSQPPNgANS6MlKeFeZml3eSLg0xzzv0Hi11qisWz7DwfBDvu/3oRz+SOXPm6Av3iHTfffeZDwTgW54DAwNRqVhfIhRmgzyKw4MBUOuKBkweHgJ6V5qDmzRpkqyxxhqC6X4wGKToyxtvvCEY3IL3Ibfbbju56667GoqUxgMH80ZNIyOP/PBgANS6MBIrtIZCHiPngWdiBx10kCyzzDJywAEHeAOHTjU/0ptvvilXXnmlbL311rLCCiuYbl5MYJu00D40GfIoDg8GQK0rI9GANRTyGB2P22+/Xfbdd18TDLfffnvBF2YwgCRPy/Tp0wUDejCac6WVVpIJEybII488Emy9oQy0D61J8igOjwqei2D+Kft8xLfGMw7ffrtveHhY8Gdl33poaCj1d5zDfCxSjMij93igZXjKKafI2LFjZemllxYEREwQi29lZvVaxQsvvGC6ZxHkxo0bZ/Kxww47yMUXXywzZsxQNsh6q22QPHqLBwPgIq1QBmLy8N3AufvaeWOClteFF14o++23n5kodqmllpINNthA9tprLxMoL7/8crnzzjvlsccek9mzZwu6J5M+0P3OO+8IPj2GUZr4CPUtt9wiF110kRx77LGCALf66qubYIegd8QRR5huzqeffloFPLec2KbD1/WBPHqLB7tAdWvdSOzC0FDII1ser7zyitx9990ydepUwfyEhx56qOy0006yySabmCC54oormu7UJZdc0gQ0tCTxrHHllVeWddddVzbffHPZY4895Ic//KGcc8455jumCKBvvfWWKogNdmpnTAgN2MDhtA8NjTyKw4MBUOvKSDRgDYU8yEMT0BLtgzw0AS3l2T4YALWujJRnhbnZDd2d8w7fpSVRV5/eq6UQUxxN+9DMyIM8NAEt5dk+GAC1royUZ4W52Q05awZAlxYDoKZBHuTBbxozAMZrAe/wG4jwhkAjIQ/y0AS0RPsoDg8GQK0rI9GANRTyIA9NQEu0D/LQBLSUZ/tgANS6MlKeFeZml12gLg1+ckvTIA/ymBdHoGT6D5H/B9zIcZk4gH1lAAAAAElFTkSuQmCC)"
      ]
    },
    {
      "cell_type": "markdown",
      "metadata": {
        "id": "L43jBPT5cYQB"
      },
      "source": [
        "## ***CONCLUSION***\n",
        "For your conclusion synthesize the concept and application of the laboratory. Briefly discuss what you have learned and achieved in this activity."
      ]
    },
    {
      "cell_type": "markdown",
      "metadata": {
        "id": "WB-S6a3dcZlK"
      },
      "source": [
        "This laboratory is somehow related to the previous labortatory that we've accomplished which is all about matrices and various operations. The difference is that this laboratory experiment aims to teach us how to properly use Transposition, Determinant, Dot Product, and Inverse. In this laboratory, we were tasked to prove the six given equations which were about the recent topic that were discussed to us. Upon completing this laboratory activity, I had a more indepth knowledge about the proper way of computing the matrices using the oeprations that were taught to us"
      ]
    }
  ]
}